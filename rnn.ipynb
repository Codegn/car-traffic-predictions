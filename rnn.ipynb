{
 "cells": [
  {
   "cell_type": "code",
   "execution_count": 2,
   "metadata": {},
   "outputs": [],
   "source": [
    "import json\n",
    "import pandas as pd\n",
    "from pathlib import Path\n",
    "import numpy as np"
   ]
  },
  {
   "cell_type": "code",
   "execution_count": 3,
   "metadata": {},
   "outputs": [],
   "source": [
    "folder_path = 'E:/work/data/waze-trafmine/2018/4'"
   ]
  },
  {
   "cell_type": "code",
   "execution_count": 4,
   "metadata": {},
   "outputs": [],
   "source": [
    "def from_json_folder_to_json_docs(folder_path):\n",
    "    pathlist = Path(folder_path).glob('**/*.json')\n",
    "    json_docs = []\n",
    "    for path in pathlist:\n",
    "        # because path is object not string\n",
    "        path_in_str = str(path)\n",
    "        print('processing file: ' + path_in_str)\n",
    "        with open(path_in_str, encoding=\"utf8\") as f:\n",
    "            json_file = json.load(f)\n",
    "            json_docs.append(json_file)\n",
    "    print('Done!')\n",
    "    return json_docs"
   ]
  },
  {
   "cell_type": "code",
   "execution_count": 5,
   "metadata": {},
   "outputs": [
    {
     "name": "stdout",
     "output_type": "stream",
     "text": [
      "processing file: E:\\work\\data\\waze-trafmine\\2018\\4\\1-10.json\n",
      "processing file: E:\\work\\data\\waze-trafmine\\2018\\4\\11-20.json\n",
      "processing file: E:\\work\\data\\waze-trafmine\\2018\\4\\21-30.json\n",
      "Done!\n"
     ]
    }
   ],
   "source": [
    "json_data = from_json_folder_to_json_docs(folder_path)"
   ]
  },
  {
   "cell_type": "code",
   "execution_count": 6,
   "metadata": {},
   "outputs": [],
   "source": [
    "first_it = True\n",
    "for json in json_data:\n",
    "    #print(json.keys())\n",
    "    if first_it != True:\n",
    "        alerts_df.append(pd.DataFrame(json['alerts']), ignore_index=True)\n",
    "        jams_df.append(pd.DataFrame(json['jams']), ignore_index=True)\n",
    "    else:\n",
    "        alerts_df = pd.DataFrame(json['alerts'])\n",
    "        jams_df = pd.DataFrame(json['jams'])\n",
    "        first_it = False"
   ]
  },
  {
   "cell_type": "code",
   "execution_count": 7,
   "metadata": {},
   "outputs": [
    {
     "data": {
      "text/html": [
       "<div>\n",
       "<style scoped>\n",
       "    .dataframe tbody tr th:only-of-type {\n",
       "        vertical-align: middle;\n",
       "    }\n",
       "\n",
       "    .dataframe tbody tr th {\n",
       "        vertical-align: top;\n",
       "    }\n",
       "\n",
       "    .dataframe thead th {\n",
       "        text-align: right;\n",
       "    }\n",
       "</style>\n",
       "<table border=\"1\" class=\"dataframe\">\n",
       "  <thead>\n",
       "    <tr style=\"text-align: right;\">\n",
       "      <th></th>\n",
       "      <th>alert_subtype_id</th>\n",
       "      <th>alert_type_id</th>\n",
       "      <th>city</th>\n",
       "      <th>confidence</th>\n",
       "      <th>country</th>\n",
       "      <th>jam_uuid</th>\n",
       "      <th>last_seen</th>\n",
       "      <th>location</th>\n",
       "      <th>magvar</th>\n",
       "      <th>publish_date</th>\n",
       "      <th>reliability</th>\n",
       "      <th>report_by_partner</th>\n",
       "      <th>report_description</th>\n",
       "      <th>report_rating</th>\n",
       "      <th>road_type</th>\n",
       "      <th>street</th>\n",
       "      <th>thumbs_up</th>\n",
       "      <th>uuid</th>\n",
       "    </tr>\n",
       "  </thead>\n",
       "  <tbody>\n",
       "    <tr>\n",
       "      <th>0</th>\n",
       "      <td>13.0</td>\n",
       "      <td>4</td>\n",
       "      <td>None</td>\n",
       "      <td>5</td>\n",
       "      <td>CI</td>\n",
       "      <td>None</td>\n",
       "      <td>2018-04-01T03:00:21+00:00</td>\n",
       "      <td>[-70.646227, -33.635035]</td>\n",
       "      <td>265</td>\n",
       "      <td>2018-04-01T01:02:02+00:00</td>\n",
       "      <td>10</td>\n",
       "      <td>None</td>\n",
       "      <td>None</td>\n",
       "      <td>0</td>\n",
       "      <td>3.0</td>\n",
       "      <td>Ruta 79</td>\n",
       "      <td>0</td>\n",
       "      <td>8271e6bf-fca0-3cad-bac4-6a6959d16b1c</td>\n",
       "    </tr>\n",
       "    <tr>\n",
       "      <th>1</th>\n",
       "      <td>4.0</td>\n",
       "      <td>3</td>\n",
       "      <td>Conchalí</td>\n",
       "      <td>0</td>\n",
       "      <td>CI</td>\n",
       "      <td>None</td>\n",
       "      <td>2018-04-01T03:00:21+00:00</td>\n",
       "      <td>[-70.670608, -33.398605]</td>\n",
       "      <td>56</td>\n",
       "      <td>2018-04-01T02:30:58+00:00</td>\n",
       "      <td>5</td>\n",
       "      <td>None</td>\n",
       "      <td>None</td>\n",
       "      <td>1</td>\n",
       "      <td>2.0</td>\n",
       "      <td>Av. Dorsal</td>\n",
       "      <td>0</td>\n",
       "      <td>e7b8841f-a144-3b7d-b685-05bc447b73fd</td>\n",
       "    </tr>\n",
       "    <tr>\n",
       "      <th>2</th>\n",
       "      <td>3.0</td>\n",
       "      <td>3</td>\n",
       "      <td>Ñuñoa</td>\n",
       "      <td>0</td>\n",
       "      <td>CI</td>\n",
       "      <td>None</td>\n",
       "      <td>2018-04-01T03:00:21+00:00</td>\n",
       "      <td>[-70.575705, -33.469535]</td>\n",
       "      <td>2</td>\n",
       "      <td>2018-04-01T02:31:00+00:00</td>\n",
       "      <td>5</td>\n",
       "      <td>None</td>\n",
       "      <td>None</td>\n",
       "      <td>1</td>\n",
       "      <td>2.0</td>\n",
       "      <td>None</td>\n",
       "      <td>0</td>\n",
       "      <td>e1c149d5-4383-3490-bb2d-550156e3ad51</td>\n",
       "    </tr>\n",
       "    <tr>\n",
       "      <th>3</th>\n",
       "      <td>30.0</td>\n",
       "      <td>4</td>\n",
       "      <td>Las Condes</td>\n",
       "      <td>1</td>\n",
       "      <td>CI</td>\n",
       "      <td>None</td>\n",
       "      <td>2018-04-01T03:00:21+00:00</td>\n",
       "      <td>[-70.578789, -33.423608]</td>\n",
       "      <td>321</td>\n",
       "      <td>2018-04-01T02:47:19+00:00</td>\n",
       "      <td>10</td>\n",
       "      <td>None</td>\n",
       "      <td>None</td>\n",
       "      <td>5</td>\n",
       "      <td>2.0</td>\n",
       "      <td>Av. Américo Vespucio Sur</td>\n",
       "      <td>0</td>\n",
       "      <td>ed5b472c-e1fa-3d35-a3fd-d8ba084b00d7</td>\n",
       "    </tr>\n",
       "    <tr>\n",
       "      <th>4</th>\n",
       "      <td>30.0</td>\n",
       "      <td>4</td>\n",
       "      <td>Maipú</td>\n",
       "      <td>1</td>\n",
       "      <td>CI</td>\n",
       "      <td>None</td>\n",
       "      <td>2018-04-01T03:05:19+00:00</td>\n",
       "      <td>[-70.754093, -33.523078]</td>\n",
       "      <td>296</td>\n",
       "      <td>2018-04-01T02:21:05+00:00</td>\n",
       "      <td>8</td>\n",
       "      <td>None</td>\n",
       "      <td>None</td>\n",
       "      <td>2</td>\n",
       "      <td>1.0</td>\n",
       "      <td>Vicente Reyes</td>\n",
       "      <td>0</td>\n",
       "      <td>eee63ebc-94b6-32f8-a9e9-6fb392f64559</td>\n",
       "    </tr>\n",
       "  </tbody>\n",
       "</table>\n",
       "</div>"
      ],
      "text/plain": [
       "   alert_subtype_id  alert_type_id        city  confidence country jam_uuid  \\\n",
       "0              13.0              4        None           5      CI     None   \n",
       "1               4.0              3    Conchalí           0      CI     None   \n",
       "2               3.0              3       Ñuñoa           0      CI     None   \n",
       "3              30.0              4  Las Condes           1      CI     None   \n",
       "4              30.0              4       Maipú           1      CI     None   \n",
       "\n",
       "                   last_seen                  location  magvar  \\\n",
       "0  2018-04-01T03:00:21+00:00  [-70.646227, -33.635035]     265   \n",
       "1  2018-04-01T03:00:21+00:00  [-70.670608, -33.398605]      56   \n",
       "2  2018-04-01T03:00:21+00:00  [-70.575705, -33.469535]       2   \n",
       "3  2018-04-01T03:00:21+00:00  [-70.578789, -33.423608]     321   \n",
       "4  2018-04-01T03:05:19+00:00  [-70.754093, -33.523078]     296   \n",
       "\n",
       "                publish_date  reliability report_by_partner  \\\n",
       "0  2018-04-01T01:02:02+00:00           10              None   \n",
       "1  2018-04-01T02:30:58+00:00            5              None   \n",
       "2  2018-04-01T02:31:00+00:00            5              None   \n",
       "3  2018-04-01T02:47:19+00:00           10              None   \n",
       "4  2018-04-01T02:21:05+00:00            8              None   \n",
       "\n",
       "  report_description  report_rating  road_type                    street  \\\n",
       "0               None              0        3.0                   Ruta 79   \n",
       "1               None              1        2.0                Av. Dorsal   \n",
       "2               None              1        2.0                      None   \n",
       "3               None              5        2.0  Av. Américo Vespucio Sur   \n",
       "4               None              2        1.0             Vicente Reyes   \n",
       "\n",
       "   thumbs_up                                  uuid  \n",
       "0          0  8271e6bf-fca0-3cad-bac4-6a6959d16b1c  \n",
       "1          0  e7b8841f-a144-3b7d-b685-05bc447b73fd  \n",
       "2          0  e1c149d5-4383-3490-bb2d-550156e3ad51  \n",
       "3          0  ed5b472c-e1fa-3d35-a3fd-d8ba084b00d7  \n",
       "4          0  eee63ebc-94b6-32f8-a9e9-6fb392f64559  "
      ]
     },
     "execution_count": 7,
     "metadata": {},
     "output_type": "execute_result"
    }
   ],
   "source": [
    "alerts_df.head()"
   ]
  },
  {
   "cell_type": "code",
   "execution_count": 8,
   "metadata": {},
   "outputs": [
    {
     "data": {
      "text/plain": [
       "(115547, 18)"
      ]
     },
     "execution_count": 8,
     "metadata": {},
     "output_type": "execute_result"
    }
   ],
   "source": [
    "alerts_df.shape"
   ]
  },
  {
   "cell_type": "code",
   "execution_count": 9,
   "metadata": {},
   "outputs": [
    {
     "data": {
      "text/html": [
       "<div>\n",
       "<style scoped>\n",
       "    .dataframe tbody tr th:only-of-type {\n",
       "        vertical-align: middle;\n",
       "    }\n",
       "\n",
       "    .dataframe tbody tr th {\n",
       "        vertical-align: top;\n",
       "    }\n",
       "\n",
       "    .dataframe thead th {\n",
       "        text-align: right;\n",
       "    }\n",
       "</style>\n",
       "<table border=\"1\" class=\"dataframe\">\n",
       "  <thead>\n",
       "    <tr style=\"text-align: right;\">\n",
       "      <th></th>\n",
       "      <th>alert_uuid</th>\n",
       "      <th>city</th>\n",
       "      <th>country</th>\n",
       "      <th>end_node</th>\n",
       "      <th>last_seen</th>\n",
       "      <th>publish_date</th>\n",
       "      <th>revisions</th>\n",
       "      <th>road_type</th>\n",
       "      <th>start_node</th>\n",
       "      <th>street</th>\n",
       "      <th>turn_type</th>\n",
       "      <th>type</th>\n",
       "      <th>uuid</th>\n",
       "    </tr>\n",
       "  </thead>\n",
       "  <tbody>\n",
       "    <tr>\n",
       "      <th>0</th>\n",
       "      <td>None</td>\n",
       "      <td>Independencia</td>\n",
       "      <td>CI</td>\n",
       "      <td>Av. Independencia</td>\n",
       "      <td>2018-04-01T03:00:21+00:00</td>\n",
       "      <td>2018-03-13T09:28:51+00:00</td>\n",
       "      <td>[{'level': 5, 'length': 122, 'speed': 0, 'dela...</td>\n",
       "      <td>1</td>\n",
       "      <td>None</td>\n",
       "      <td>San Luis</td>\n",
       "      <td>NONE</td>\n",
       "      <td>NONE</td>\n",
       "      <td>1690519958</td>\n",
       "    </tr>\n",
       "    <tr>\n",
       "      <th>1</th>\n",
       "      <td>None</td>\n",
       "      <td>Independencia</td>\n",
       "      <td>CI</td>\n",
       "      <td>Carrión</td>\n",
       "      <td>2018-04-01T03:00:21+00:00</td>\n",
       "      <td>2018-03-13T09:28:52+00:00</td>\n",
       "      <td>[{'level': 5, 'length': 114, 'speed': 0, 'dela...</td>\n",
       "      <td>2</td>\n",
       "      <td>None</td>\n",
       "      <td>Av. Independencia</td>\n",
       "      <td>NONE</td>\n",
       "      <td>NONE</td>\n",
       "      <td>1689021580</td>\n",
       "    </tr>\n",
       "    <tr>\n",
       "      <th>2</th>\n",
       "      <td>None</td>\n",
       "      <td>Quilicura</td>\n",
       "      <td>CI</td>\n",
       "      <td>San Luis</td>\n",
       "      <td>2018-04-01T03:00:21+00:00</td>\n",
       "      <td>2018-04-01T02:09:36+00:00</td>\n",
       "      <td>[{'level': 4, 'length': 169, 'speed': 1.369444...</td>\n",
       "      <td>2</td>\n",
       "      <td>None</td>\n",
       "      <td>Av. General San Martín</td>\n",
       "      <td>NONE</td>\n",
       "      <td>NONE</td>\n",
       "      <td>1141252470</td>\n",
       "    </tr>\n",
       "    <tr>\n",
       "      <th>3</th>\n",
       "      <td>None</td>\n",
       "      <td>Estación Central</td>\n",
       "      <td>CI</td>\n",
       "      <td>Av. 5 de abril</td>\n",
       "      <td>2018-04-01T03:00:21+00:00</td>\n",
       "      <td>2018-04-01T02:49:03+00:00</td>\n",
       "      <td>[{'level': 2, 'length': 239, 'speed': 1.705555...</td>\n",
       "      <td>1</td>\n",
       "      <td>None</td>\n",
       "      <td>Altarcillo</td>\n",
       "      <td>NONE</td>\n",
       "      <td>NONE</td>\n",
       "      <td>1148702766</td>\n",
       "    </tr>\n",
       "    <tr>\n",
       "      <th>4</th>\n",
       "      <td>None</td>\n",
       "      <td>San Ramón</td>\n",
       "      <td>CI</td>\n",
       "      <td>Javiera Carrera</td>\n",
       "      <td>2018-04-01T03:00:21+00:00</td>\n",
       "      <td>2018-04-01T02:49:04+00:00</td>\n",
       "      <td>[{'level': 3, 'length': 174, 'speed': 1.219444...</td>\n",
       "      <td>1</td>\n",
       "      <td>None</td>\n",
       "      <td>Sargento Candelaria</td>\n",
       "      <td>NONE</td>\n",
       "      <td>NONE</td>\n",
       "      <td>1149163148</td>\n",
       "    </tr>\n",
       "  </tbody>\n",
       "</table>\n",
       "</div>"
      ],
      "text/plain": [
       "  alert_uuid              city country           end_node  \\\n",
       "0       None     Independencia      CI  Av. Independencia   \n",
       "1       None     Independencia      CI            Carrión   \n",
       "2       None         Quilicura      CI           San Luis   \n",
       "3       None  Estación Central      CI     Av. 5 de abril   \n",
       "4       None         San Ramón      CI    Javiera Carrera   \n",
       "\n",
       "                   last_seen               publish_date  \\\n",
       "0  2018-04-01T03:00:21+00:00  2018-03-13T09:28:51+00:00   \n",
       "1  2018-04-01T03:00:21+00:00  2018-03-13T09:28:52+00:00   \n",
       "2  2018-04-01T03:00:21+00:00  2018-04-01T02:09:36+00:00   \n",
       "3  2018-04-01T03:00:21+00:00  2018-04-01T02:49:03+00:00   \n",
       "4  2018-04-01T03:00:21+00:00  2018-04-01T02:49:04+00:00   \n",
       "\n",
       "                                           revisions  road_type start_node  \\\n",
       "0  [{'level': 5, 'length': 122, 'speed': 0, 'dela...          1       None   \n",
       "1  [{'level': 5, 'length': 114, 'speed': 0, 'dela...          2       None   \n",
       "2  [{'level': 4, 'length': 169, 'speed': 1.369444...          2       None   \n",
       "3  [{'level': 2, 'length': 239, 'speed': 1.705555...          1       None   \n",
       "4  [{'level': 3, 'length': 174, 'speed': 1.219444...          1       None   \n",
       "\n",
       "                   street turn_type  type        uuid  \n",
       "0                San Luis      NONE  NONE  1690519958  \n",
       "1       Av. Independencia      NONE  NONE  1689021580  \n",
       "2  Av. General San Martín      NONE  NONE  1141252470  \n",
       "3              Altarcillo      NONE  NONE  1148702766  \n",
       "4     Sargento Candelaria      NONE  NONE  1149163148  "
      ]
     },
     "execution_count": 9,
     "metadata": {},
     "output_type": "execute_result"
    }
   ],
   "source": [
    "jams_df.head()"
   ]
  },
  {
   "cell_type": "code",
   "execution_count": 13,
   "metadata": {},
   "outputs": [
    {
     "data": {
      "text/plain": [
       "<matplotlib.axes._subplots.AxesSubplot at 0x1c91ddf8048>"
      ]
     },
     "execution_count": 13,
     "metadata": {},
     "output_type": "execute_result"
    },
    {
     "data": {
      "image/png": "[encoded data removed]",
      "text/plain": [
       "<Figure size 432x288 with 1 Axes>"
      ]
     },
     "metadata": {
      "needs_background": "light"
     },
     "output_type": "display_data"
    }
   ],
   "source": [
    "alerts_df['alert_type_id'].value_counts().plot(kind='barh')"
   ]
  },
  {
   "cell_type": "code",
   "execution_count": 12,
   "metadata": {},
   "outputs": [
    {
     "data": {
      "text/plain": [
       "<matplotlib.axes._subplots.AxesSubplot at 0x1c91e118da0>"
      ]
     },
     "execution_count": 12,
     "metadata": {},
     "output_type": "execute_result"
    },
    {
     "data": {
      "image/png": "[encoded data removed]",
      "text/plain": [
       "<Figure size 432x288 with 1 Axes>"
      ]
     },
     "metadata": {
      "needs_background": "light"
     },
     "output_type": "display_data"
    }
   ],
   "source": [
    "alerts_df['alert_subtype_id'][alerts_df['alert_type_id'] == 4].value_counts().plot(kind='barh')"
   ]
  },
  {
   "cell_type": "code",
   "execution_count": 14,
   "metadata": {},
   "outputs": [
    {
     "name": "stdout",
     "output_type": "stream",
     "text": [
      "[  1.   2.   3.   4.   5.   7.   8.   9.  10.  11.  12.  13.  14.  15.  16.\n",
      "  17.  20.  28.  29.  30.  31.  32.  33.  34.  nan]\n"
     ]
    }
   ],
   "source": [
    "print(np.sort(alerts_df['alert_subtype_id'].unique()))"
   ]
  },
  {
   "cell_type": "code",
   "execution_count": 15,
   "metadata": {},
   "outputs": [
    {
     "name": "stdout",
     "output_type": "stream",
     "text": [
      "[  1.   2.  nan]\n"
     ]
    }
   ],
   "source": [
    "print(np.sort(alerts_df['alert_subtype_id'][alerts_df['alert_type_id'] == 2].unique()))"
   ]
  },
  {
   "cell_type": "code",
   "execution_count": 16,
   "metadata": {},
   "outputs": [
    {
     "name": "stdout",
     "output_type": "stream",
     "text": [
      "[  3.   4.   5.  nan]\n"
     ]
    }
   ],
   "source": [
    "print(np.sort(alerts_df['alert_subtype_id'][alerts_df['alert_type_id'] == 3].unique()))"
   ]
  },
  {
   "cell_type": "code",
   "execution_count": 17,
   "metadata": {},
   "outputs": [
    {
     "name": "stdout",
     "output_type": "stream",
     "text": [
      "[  7.   8.   9.  10.  11.  12.  13.  14.  15.  16.  17.  20.  28.  29.  30.\n",
      "  34.  nan]\n"
     ]
    }
   ],
   "source": [
    "print(np.sort(alerts_df['alert_subtype_id'][alerts_df['alert_type_id'] == 4].unique()))"
   ]
  },
  {
   "cell_type": "code",
   "execution_count": 19,
   "metadata": {},
   "outputs": [
    {
     "name": "stdout",
     "output_type": "stream",
     "text": [
      "[ 31.  32.  33.  nan]\n"
     ]
    }
   ],
   "source": [
    "print(np.sort(alerts_df['alert_subtype_id'][alerts_df['alert_type_id'] == 7].unique()))"
   ]
  },
  {
   "cell_type": "markdown",
   "metadata": {},
   "source": [
    "I have to assume that 'alert_type_id' is 3 (JAM) and 'alert_subtype_id' 4 is JAM_HEAVY_TRAFFIC and 5 is JAM_STAND_STILL_TRAFFIC"
   ]
  },
  {
   "cell_type": "code",
   "execution_count": 20,
   "metadata": {},
   "outputs": [],
   "source": [
    "alerts_df['publish_date_dt'] = pd.to_datetime(alerts_df['publish_date'])"
   ]
  },
  {
   "cell_type": "code",
   "execution_count": 21,
   "metadata": {},
   "outputs": [
    {
     "data": {
      "text/html": [
       "<div>\n",
       "<style scoped>\n",
       "    .dataframe tbody tr th:only-of-type {\n",
       "        vertical-align: middle;\n",
       "    }\n",
       "\n",
       "    .dataframe tbody tr th {\n",
       "        vertical-align: top;\n",
       "    }\n",
       "\n",
       "    .dataframe thead th {\n",
       "        text-align: right;\n",
       "    }\n",
       "</style>\n",
       "<table border=\"1\" class=\"dataframe\">\n",
       "  <thead>\n",
       "    <tr style=\"text-align: right;\">\n",
       "      <th></th>\n",
       "      <th>alert_subtype_id</th>\n",
       "      <th>alert_type_id</th>\n",
       "      <th>city</th>\n",
       "      <th>confidence</th>\n",
       "      <th>country</th>\n",
       "      <th>jam_uuid</th>\n",
       "      <th>last_seen</th>\n",
       "      <th>location</th>\n",
       "      <th>magvar</th>\n",
       "      <th>publish_date</th>\n",
       "      <th>reliability</th>\n",
       "      <th>report_by_partner</th>\n",
       "      <th>report_description</th>\n",
       "      <th>report_rating</th>\n",
       "      <th>road_type</th>\n",
       "      <th>street</th>\n",
       "      <th>thumbs_up</th>\n",
       "      <th>uuid</th>\n",
       "      <th>publish_date_dt</th>\n",
       "    </tr>\n",
       "  </thead>\n",
       "  <tbody>\n",
       "    <tr>\n",
       "      <th>0</th>\n",
       "      <td>13.0</td>\n",
       "      <td>4</td>\n",
       "      <td>None</td>\n",
       "      <td>5</td>\n",
       "      <td>CI</td>\n",
       "      <td>None</td>\n",
       "      <td>2018-04-01T03:00:21+00:00</td>\n",
       "      <td>[-70.646227, -33.635035]</td>\n",
       "      <td>265</td>\n",
       "      <td>2018-04-01T01:02:02+00:00</td>\n",
       "      <td>10</td>\n",
       "      <td>None</td>\n",
       "      <td>None</td>\n",
       "      <td>0</td>\n",
       "      <td>3.0</td>\n",
       "      <td>Ruta 79</td>\n",
       "      <td>0</td>\n",
       "      <td>8271e6bf-fca0-3cad-bac4-6a6959d16b1c</td>\n",
       "      <td>2018-04-01 01:02:02+00:00</td>\n",
       "    </tr>\n",
       "    <tr>\n",
       "      <th>1</th>\n",
       "      <td>4.0</td>\n",
       "      <td>3</td>\n",
       "      <td>Conchalí</td>\n",
       "      <td>0</td>\n",
       "      <td>CI</td>\n",
       "      <td>None</td>\n",
       "      <td>2018-04-01T03:00:21+00:00</td>\n",
       "      <td>[-70.670608, -33.398605]</td>\n",
       "      <td>56</td>\n",
       "      <td>2018-04-01T02:30:58+00:00</td>\n",
       "      <td>5</td>\n",
       "      <td>None</td>\n",
       "      <td>None</td>\n",
       "      <td>1</td>\n",
       "      <td>2.0</td>\n",
       "      <td>Av. Dorsal</td>\n",
       "      <td>0</td>\n",
       "      <td>e7b8841f-a144-3b7d-b685-05bc447b73fd</td>\n",
       "      <td>2018-04-01 02:30:58+00:00</td>\n",
       "    </tr>\n",
       "    <tr>\n",
       "      <th>2</th>\n",
       "      <td>3.0</td>\n",
       "      <td>3</td>\n",
       "      <td>Ñuñoa</td>\n",
       "      <td>0</td>\n",
       "      <td>CI</td>\n",
       "      <td>None</td>\n",
       "      <td>2018-04-01T03:00:21+00:00</td>\n",
       "      <td>[-70.575705, -33.469535]</td>\n",
       "      <td>2</td>\n",
       "      <td>2018-04-01T02:31:00+00:00</td>\n",
       "      <td>5</td>\n",
       "      <td>None</td>\n",
       "      <td>None</td>\n",
       "      <td>1</td>\n",
       "      <td>2.0</td>\n",
       "      <td>None</td>\n",
       "      <td>0</td>\n",
       "      <td>e1c149d5-4383-3490-bb2d-550156e3ad51</td>\n",
       "      <td>2018-04-01 02:31:00+00:00</td>\n",
       "    </tr>\n",
       "    <tr>\n",
       "      <th>3</th>\n",
       "      <td>30.0</td>\n",
       "      <td>4</td>\n",
       "      <td>Las Condes</td>\n",
       "      <td>1</td>\n",
       "      <td>CI</td>\n",
       "      <td>None</td>\n",
       "      <td>2018-04-01T03:00:21+00:00</td>\n",
       "      <td>[-70.578789, -33.423608]</td>\n",
       "      <td>321</td>\n",
       "      <td>2018-04-01T02:47:19+00:00</td>\n",
       "      <td>10</td>\n",
       "      <td>None</td>\n",
       "      <td>None</td>\n",
       "      <td>5</td>\n",
       "      <td>2.0</td>\n",
       "      <td>Av. Américo Vespucio Sur</td>\n",
       "      <td>0</td>\n",
       "      <td>ed5b472c-e1fa-3d35-a3fd-d8ba084b00d7</td>\n",
       "      <td>2018-04-01 02:47:19+00:00</td>\n",
       "    </tr>\n",
       "    <tr>\n",
       "      <th>4</th>\n",
       "      <td>30.0</td>\n",
       "      <td>4</td>\n",
       "      <td>Maipú</td>\n",
       "      <td>1</td>\n",
       "      <td>CI</td>\n",
       "      <td>None</td>\n",
       "      <td>2018-04-01T03:05:19+00:00</td>\n",
       "      <td>[-70.754093, -33.523078]</td>\n",
       "      <td>296</td>\n",
       "      <td>2018-04-01T02:21:05+00:00</td>\n",
       "      <td>8</td>\n",
       "      <td>None</td>\n",
       "      <td>None</td>\n",
       "      <td>2</td>\n",
       "      <td>1.0</td>\n",
       "      <td>Vicente Reyes</td>\n",
       "      <td>0</td>\n",
       "      <td>eee63ebc-94b6-32f8-a9e9-6fb392f64559</td>\n",
       "      <td>2018-04-01 02:21:05+00:00</td>\n",
       "    </tr>\n",
       "  </tbody>\n",
       "</table>\n",
       "</div>"
      ],
      "text/plain": [
       "   alert_subtype_id  alert_type_id        city  confidence country jam_uuid  \\\n",
       "0              13.0              4        None           5      CI     None   \n",
       "1               4.0              3    Conchalí           0      CI     None   \n",
       "2               3.0              3       Ñuñoa           0      CI     None   \n",
       "3              30.0              4  Las Condes           1      CI     None   \n",
       "4              30.0              4       Maipú           1      CI     None   \n",
       "\n",
       "                   last_seen                  location  magvar  \\\n",
       "0  2018-04-01T03:00:21+00:00  [-70.646227, -33.635035]     265   \n",
       "1  2018-04-01T03:00:21+00:00  [-70.670608, -33.398605]      56   \n",
       "2  2018-04-01T03:00:21+00:00  [-70.575705, -33.469535]       2   \n",
       "3  2018-04-01T03:00:21+00:00  [-70.578789, -33.423608]     321   \n",
       "4  2018-04-01T03:05:19+00:00  [-70.754093, -33.523078]     296   \n",
       "\n",
       "                publish_date  reliability report_by_partner  \\\n",
       "0  2018-04-01T01:02:02+00:00           10              None   \n",
       "1  2018-04-01T02:30:58+00:00            5              None   \n",
       "2  2018-04-01T02:31:00+00:00            5              None   \n",
       "3  2018-04-01T02:47:19+00:00           10              None   \n",
       "4  2018-04-01T02:21:05+00:00            8              None   \n",
       "\n",
       "  report_description  report_rating  road_type                    street  \\\n",
       "0               None              0        3.0                   Ruta 79   \n",
       "1               None              1        2.0                Av. Dorsal   \n",
       "2               None              1        2.0                      None   \n",
       "3               None              5        2.0  Av. Américo Vespucio Sur   \n",
       "4               None              2        1.0             Vicente Reyes   \n",
       "\n",
       "   thumbs_up                                  uuid           publish_date_dt  \n",
       "0          0  8271e6bf-fca0-3cad-bac4-6a6959d16b1c 2018-04-01 01:02:02+00:00  \n",
       "1          0  e7b8841f-a144-3b7d-b685-05bc447b73fd 2018-04-01 02:30:58+00:00  \n",
       "2          0  e1c149d5-4383-3490-bb2d-550156e3ad51 2018-04-01 02:31:00+00:00  \n",
       "3          0  ed5b472c-e1fa-3d35-a3fd-d8ba084b00d7 2018-04-01 02:47:19+00:00  \n",
       "4          0  eee63ebc-94b6-32f8-a9e9-6fb392f64559 2018-04-01 02:21:05+00:00  "
      ]
     },
     "execution_count": 21,
     "metadata": {},
     "output_type": "execute_result"
    }
   ],
   "source": [
    "alerts_df.head()"
   ]
  },
  {
   "cell_type": "code",
   "execution_count": 24,
   "metadata": {},
   "outputs": [
    {
     "data": {
      "text/plain": [
       "alert_subtype_id                  float64\n",
       "alert_type_id                       int64\n",
       "city                               object\n",
       "confidence                          int64\n",
       "country                            object\n",
       "jam_uuid                           object\n",
       "last_seen                          object\n",
       "location                           object\n",
       "magvar                              int64\n",
       "publish_date                       object\n",
       "reliability                         int64\n",
       "report_by_partner                  object\n",
       "report_description                 object\n",
       "report_rating                       int64\n",
       "road_type                         float64\n",
       "street                             object\n",
       "thumbs_up                           int64\n",
       "uuid                               object\n",
       "publish_date_dt       datetime64[ns, UTC]\n",
       "dtype: object"
      ]
     },
     "execution_count": 24,
     "metadata": {},
     "output_type": "execute_result"
    }
   ],
   "source": [
    "alerts_df.dtypes"
   ]
  },
  {
   "cell_type": "code",
   "execution_count": 29,
   "metadata": {},
   "outputs": [],
   "source": [
    "alerts_df = alerts_df[['alert_subtype_id', 'alert_type_id', 'street', 'publish_date_dt']]"
   ]
  },
  {
   "cell_type": "code",
   "execution_count": 30,
   "metadata": {},
   "outputs": [],
   "source": [
    "alerts_df_jams = alerts_df[(alerts_df['alert_type_id'] == 3) & ((alerts_df['alert_subtype_id'] == 4) | (alerts_df['alert_subtype_id'] == 5))]"
   ]
  },
  {
   "cell_type": "code",
   "execution_count": 31,
   "metadata": {},
   "outputs": [
    {
     "data": {
      "text/html": [
       "<div>\n",
       "<style scoped>\n",
       "    .dataframe tbody tr th:only-of-type {\n",
       "        vertical-align: middle;\n",
       "    }\n",
       "\n",
       "    .dataframe tbody tr th {\n",
       "        vertical-align: top;\n",
       "    }\n",
       "\n",
       "    .dataframe thead th {\n",
       "        text-align: right;\n",
       "    }\n",
       "</style>\n",
       "<table border=\"1\" class=\"dataframe\">\n",
       "  <thead>\n",
       "    <tr style=\"text-align: right;\">\n",
       "      <th></th>\n",
       "      <th>alert_subtype_id</th>\n",
       "      <th>alert_type_id</th>\n",
       "      <th>street</th>\n",
       "      <th>publish_date_dt</th>\n",
       "    </tr>\n",
       "  </thead>\n",
       "  <tbody>\n",
       "    <tr>\n",
       "      <th>1</th>\n",
       "      <td>4.0</td>\n",
       "      <td>3</td>\n",
       "      <td>Av. Dorsal</td>\n",
       "      <td>2018-04-01 02:30:58+00:00</td>\n",
       "    </tr>\n",
       "    <tr>\n",
       "      <th>9</th>\n",
       "      <td>4.0</td>\n",
       "      <td>3</td>\n",
       "      <td>Av. Teniente Luis Cruz Martínez</td>\n",
       "      <td>2018-04-01 02:38:08+00:00</td>\n",
       "    </tr>\n",
       "    <tr>\n",
       "      <th>14</th>\n",
       "      <td>4.0</td>\n",
       "      <td>3</td>\n",
       "      <td>Av. Américo Vespucio</td>\n",
       "      <td>2018-04-01 02:43:12+00:00</td>\n",
       "    </tr>\n",
       "    <tr>\n",
       "      <th>18</th>\n",
       "      <td>4.0</td>\n",
       "      <td>3</td>\n",
       "      <td>Av. La Florida</td>\n",
       "      <td>2018-04-01 02:45:24+00:00</td>\n",
       "    </tr>\n",
       "    <tr>\n",
       "      <th>22</th>\n",
       "      <td>4.0</td>\n",
       "      <td>3</td>\n",
       "      <td>Peaje Troncal Las Canteras</td>\n",
       "      <td>2018-04-01 02:49:27+00:00</td>\n",
       "    </tr>\n",
       "  </tbody>\n",
       "</table>\n",
       "</div>"
      ],
      "text/plain": [
       "    alert_subtype_id  alert_type_id                           street  \\\n",
       "1                4.0              3                       Av. Dorsal   \n",
       "9                4.0              3  Av. Teniente Luis Cruz Martínez   \n",
       "14               4.0              3             Av. Américo Vespucio   \n",
       "18               4.0              3                   Av. La Florida   \n",
       "22               4.0              3       Peaje Troncal Las Canteras   \n",
       "\n",
       "             publish_date_dt  \n",
       "1  2018-04-01 02:30:58+00:00  \n",
       "9  2018-04-01 02:38:08+00:00  \n",
       "14 2018-04-01 02:43:12+00:00  \n",
       "18 2018-04-01 02:45:24+00:00  \n",
       "22 2018-04-01 02:49:27+00:00  "
      ]
     },
     "execution_count": 31,
     "metadata": {},
     "output_type": "execute_result"
    }
   ],
   "source": [
    "alerts_df_jams.head()"
   ]
  },
  {
   "cell_type": "code",
   "execution_count": 32,
   "metadata": {},
   "outputs": [],
   "source": [
    "alerts_df_jams = alerts_df_jams.set_index('publish_date_dt')"
   ]
  },
  {
   "cell_type": "code",
   "execution_count": 33,
   "metadata": {},
   "outputs": [
    {
     "data": {
      "text/html": [
       "<div>\n",
       "<style scoped>\n",
       "    .dataframe tbody tr th:only-of-type {\n",
       "        vertical-align: middle;\n",
       "    }\n",
       "\n",
       "    .dataframe tbody tr th {\n",
       "        vertical-align: top;\n",
       "    }\n",
       "\n",
       "    .dataframe thead th {\n",
       "        text-align: right;\n",
       "    }\n",
       "</style>\n",
       "<table border=\"1\" class=\"dataframe\">\n",
       "  <thead>\n",
       "    <tr style=\"text-align: right;\">\n",
       "      <th></th>\n",
       "      <th>alert_subtype_id</th>\n",
       "      <th>alert_type_id</th>\n",
       "      <th>street</th>\n",
       "    </tr>\n",
       "    <tr>\n",
       "      <th>publish_date_dt</th>\n",
       "      <th></th>\n",
       "      <th></th>\n",
       "      <th></th>\n",
       "    </tr>\n",
       "  </thead>\n",
       "  <tbody>\n",
       "    <tr>\n",
       "      <th>2018-04-01 02:30:58+00:00</th>\n",
       "      <td>4.0</td>\n",
       "      <td>3</td>\n",
       "      <td>Av. Dorsal</td>\n",
       "    </tr>\n",
       "    <tr>\n",
       "      <th>2018-04-01 02:38:08+00:00</th>\n",
       "      <td>4.0</td>\n",
       "      <td>3</td>\n",
       "      <td>Av. Teniente Luis Cruz Martínez</td>\n",
       "    </tr>\n",
       "    <tr>\n",
       "      <th>2018-04-01 02:43:12+00:00</th>\n",
       "      <td>4.0</td>\n",
       "      <td>3</td>\n",
       "      <td>Av. Américo Vespucio</td>\n",
       "    </tr>\n",
       "    <tr>\n",
       "      <th>2018-04-01 02:45:24+00:00</th>\n",
       "      <td>4.0</td>\n",
       "      <td>3</td>\n",
       "      <td>Av. La Florida</td>\n",
       "    </tr>\n",
       "    <tr>\n",
       "      <th>2018-04-01 02:49:27+00:00</th>\n",
       "      <td>4.0</td>\n",
       "      <td>3</td>\n",
       "      <td>Peaje Troncal Las Canteras</td>\n",
       "    </tr>\n",
       "  </tbody>\n",
       "</table>\n",
       "</div>"
      ],
      "text/plain": [
       "                           alert_subtype_id  alert_type_id  \\\n",
       "publish_date_dt                                              \n",
       "2018-04-01 02:30:58+00:00               4.0              3   \n",
       "2018-04-01 02:38:08+00:00               4.0              3   \n",
       "2018-04-01 02:43:12+00:00               4.0              3   \n",
       "2018-04-01 02:45:24+00:00               4.0              3   \n",
       "2018-04-01 02:49:27+00:00               4.0              3   \n",
       "\n",
       "                                                    street  \n",
       "publish_date_dt                                             \n",
       "2018-04-01 02:30:58+00:00                       Av. Dorsal  \n",
       "2018-04-01 02:38:08+00:00  Av. Teniente Luis Cruz Martínez  \n",
       "2018-04-01 02:43:12+00:00             Av. Américo Vespucio  \n",
       "2018-04-01 02:45:24+00:00                   Av. La Florida  \n",
       "2018-04-01 02:49:27+00:00       Peaje Troncal Las Canteras  "
      ]
     },
     "execution_count": 33,
     "metadata": {},
     "output_type": "execute_result"
    }
   ],
   "source": [
    "alerts_df_jams.head()"
   ]
  },
  {
   "cell_type": "code",
   "execution_count": null,
   "metadata": {},
   "outputs": [],
   "source": [
    ".apply(list)"
   ]
  },
  {
   "cell_type": "code",
   "execution_count": null,
   "metadata": {},
   "outputs": [],
   "source": [
    "def rolling_to_list(x,df,time_window):\n",
    "    return df[df['street'] == x['street']].rolling(time_window).alert_subtype_id.list()\n",
    "    "
   ]
  }
 ],
 "metadata": {
  "kernelspec": {
   "display_name": "Python 3",
   "language": "python",
   "name": "python3"
  },
  "language_info": {
   "codemirror_mode": {
    "name": "ipython",
    "version": 3
   },
   "file_extension": ".py",
   "mimetype": "text/x-python",
   "name": "python",
   "nbconvert_exporter": "python",
   "pygments_lexer": "ipython3",
   "version": "3.6.9"
  }
 },
 "nbformat": 4,
 "nbformat_minor": 4
}
