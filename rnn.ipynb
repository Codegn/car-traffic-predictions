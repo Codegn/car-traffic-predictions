{
 "cells": [
  {
   "cell_type": "code",
   "execution_count": 1,
   "metadata": {},
   "outputs": [],
   "source": [
    "import json\n",
    "import pandas as pd\n",
    "from pathlib import Path\n",
    "import numpy as np"
   ]
  },
  {
   "cell_type": "code",
   "execution_count": 2,
   "metadata": {},
   "outputs": [],
   "source": [
    "folder_path = 'E:/work/data/waze-trafmine/2018/4'"
   ]
  },
  {
   "cell_type": "code",
   "execution_count": 3,
   "metadata": {},
   "outputs": [],
   "source": [
    "def from_json_folder_to_json_docs(folder_path):\n",
    "    pathlist = Path(folder_path).glob('**/*.json')\n",
    "    json_docs = []\n",
    "    for path in pathlist:\n",
    "        # because path is object not string\n",
    "        path_in_str = str(path)\n",
    "        print('processing file: ' + path_in_str)\n",
    "        with open(path_in_str, encoding=\"utf8\") as f:\n",
    "            json_file = json.load(f)\n",
    "            json_docs.append(json_file)\n",
    "    print('Done!')\n",
    "    return json_docs"
   ]
  },
  {
   "cell_type": "code",
   "execution_count": 4,
   "metadata": {},
   "outputs": [
    {
     "name": "stdout",
     "output_type": "stream",
     "text": [
      "processing file: E:\\work\\data\\waze-trafmine\\2018\\4\\1-10.json\n",
      "processing file: E:\\work\\data\\waze-trafmine\\2018\\4\\11-20.json\n",
      "processing file: E:\\work\\data\\waze-trafmine\\2018\\4\\21-30.json\n",
      "Done!\n"
     ]
    }
   ],
   "source": [
    "json_data = from_json_folder_to_json_docs(folder_path)"
   ]
  },
  {
   "cell_type": "code",
   "execution_count": 5,
   "metadata": {},
   "outputs": [],
   "source": [
    "first_it = True\n",
    "for json in json_data:\n",
    "    #print(json.keys())\n",
    "    if first_it != True:\n",
    "        alerts_df.append(pd.DataFrame(json['alerts']), ignore_index=True)\n",
    "        jams_df.append(pd.DataFrame(json['jams']), ignore_index=True)\n",
    "    else:\n",
    "        alerts_df = pd.DataFrame(json['alerts'])\n",
    "        jams_df = pd.DataFrame(json['jams'])\n",
    "        first_it = False"
   ]
  },
  {
   "cell_type": "code",
   "execution_count": 6,
   "metadata": {},
   "outputs": [
    {
     "data": {
      "text/html": [
       "<div>\n",
       "<style scoped>\n",
       "    .dataframe tbody tr th:only-of-type {\n",
       "        vertical-align: middle;\n",
       "    }\n",
       "\n",
       "    .dataframe tbody tr th {\n",
       "        vertical-align: top;\n",
       "    }\n",
       "\n",
       "    .dataframe thead th {\n",
       "        text-align: right;\n",
       "    }\n",
       "</style>\n",
       "<table border=\"1\" class=\"dataframe\">\n",
       "  <thead>\n",
       "    <tr style=\"text-align: right;\">\n",
       "      <th></th>\n",
       "      <th>alert_subtype_id</th>\n",
       "      <th>alert_type_id</th>\n",
       "      <th>city</th>\n",
       "      <th>confidence</th>\n",
       "      <th>country</th>\n",
       "      <th>jam_uuid</th>\n",
       "      <th>last_seen</th>\n",
       "      <th>location</th>\n",
       "      <th>magvar</th>\n",
       "      <th>publish_date</th>\n",
       "      <th>reliability</th>\n",
       "      <th>report_by_partner</th>\n",
       "      <th>report_description</th>\n",
       "      <th>report_rating</th>\n",
       "      <th>road_type</th>\n",
       "      <th>street</th>\n",
       "      <th>thumbs_up</th>\n",
       "      <th>uuid</th>\n",
       "    </tr>\n",
       "  </thead>\n",
       "  <tbody>\n",
       "    <tr>\n",
       "      <th>0</th>\n",
       "      <td>13.0</td>\n",
       "      <td>4</td>\n",
       "      <td>None</td>\n",
       "      <td>5</td>\n",
       "      <td>CI</td>\n",
       "      <td>None</td>\n",
       "      <td>2018-04-01T03:00:21+00:00</td>\n",
       "      <td>[-70.646227, -33.635035]</td>\n",
       "      <td>265</td>\n",
       "      <td>2018-04-01T01:02:02+00:00</td>\n",
       "      <td>10</td>\n",
       "      <td>None</td>\n",
       "      <td>None</td>\n",
       "      <td>0</td>\n",
       "      <td>3.0</td>\n",
       "      <td>Ruta 79</td>\n",
       "      <td>0</td>\n",
       "      <td>8271e6bf-fca0-3cad-bac4-6a6959d16b1c</td>\n",
       "    </tr>\n",
       "    <tr>\n",
       "      <th>1</th>\n",
       "      <td>4.0</td>\n",
       "      <td>3</td>\n",
       "      <td>Conchalí</td>\n",
       "      <td>0</td>\n",
       "      <td>CI</td>\n",
       "      <td>None</td>\n",
       "      <td>2018-04-01T03:00:21+00:00</td>\n",
       "      <td>[-70.670608, -33.398605]</td>\n",
       "      <td>56</td>\n",
       "      <td>2018-04-01T02:30:58+00:00</td>\n",
       "      <td>5</td>\n",
       "      <td>None</td>\n",
       "      <td>None</td>\n",
       "      <td>1</td>\n",
       "      <td>2.0</td>\n",
       "      <td>Av. Dorsal</td>\n",
       "      <td>0</td>\n",
       "      <td>e7b8841f-a144-3b7d-b685-05bc447b73fd</td>\n",
       "    </tr>\n",
       "    <tr>\n",
       "      <th>2</th>\n",
       "      <td>3.0</td>\n",
       "      <td>3</td>\n",
       "      <td>Ñuñoa</td>\n",
       "      <td>0</td>\n",
       "      <td>CI</td>\n",
       "      <td>None</td>\n",
       "      <td>2018-04-01T03:00:21+00:00</td>\n",
       "      <td>[-70.575705, -33.469535]</td>\n",
       "      <td>2</td>\n",
       "      <td>2018-04-01T02:31:00+00:00</td>\n",
       "      <td>5</td>\n",
       "      <td>None</td>\n",
       "      <td>None</td>\n",
       "      <td>1</td>\n",
       "      <td>2.0</td>\n",
       "      <td>None</td>\n",
       "      <td>0</td>\n",
       "      <td>e1c149d5-4383-3490-bb2d-550156e3ad51</td>\n",
       "    </tr>\n",
       "  </tbody>\n",
       "</table>\n",
       "</div>"
      ],
      "text/plain": [
       "   alert_subtype_id  alert_type_id      city  confidence country jam_uuid  \\\n",
       "0              13.0              4      None           5      CI     None   \n",
       "1               4.0              3  Conchalí           0      CI     None   \n",
       "2               3.0              3     Ñuñoa           0      CI     None   \n",
       "\n",
       "                   last_seen                  location  magvar  \\\n",
       "0  2018-04-01T03:00:21+00:00  [-70.646227, -33.635035]     265   \n",
       "1  2018-04-01T03:00:21+00:00  [-70.670608, -33.398605]      56   \n",
       "2  2018-04-01T03:00:21+00:00  [-70.575705, -33.469535]       2   \n",
       "\n",
       "                publish_date  reliability report_by_partner  \\\n",
       "0  2018-04-01T01:02:02+00:00           10              None   \n",
       "1  2018-04-01T02:30:58+00:00            5              None   \n",
       "2  2018-04-01T02:31:00+00:00            5              None   \n",
       "\n",
       "  report_description  report_rating  road_type      street  thumbs_up  \\\n",
       "0               None              0        3.0     Ruta 79          0   \n",
       "1               None              1        2.0  Av. Dorsal          0   \n",
       "2               None              1        2.0        None          0   \n",
       "\n",
       "                                   uuid  \n",
       "0  8271e6bf-fca0-3cad-bac4-6a6959d16b1c  \n",
       "1  e7b8841f-a144-3b7d-b685-05bc447b73fd  \n",
       "2  e1c149d5-4383-3490-bb2d-550156e3ad51  "
      ]
     },
     "execution_count": 6,
     "metadata": {},
     "output_type": "execute_result"
    }
   ],
   "source": [
    "alerts_df.head(3)"
   ]
  },
  {
   "cell_type": "code",
   "execution_count": 7,
   "metadata": {},
   "outputs": [
    {
     "data": {
      "text/plain": [
       "(115547, 18)"
      ]
     },
     "execution_count": 7,
     "metadata": {},
     "output_type": "execute_result"
    }
   ],
   "source": [
    "alerts_df.shape"
   ]
  },
  {
   "cell_type": "code",
   "execution_count": 8,
   "metadata": {},
   "outputs": [],
   "source": [
    "# parse date to datetime object\n",
    "alerts_df['publish_date_dt'] = pd.to_datetime(alerts_df['publish_date'])"
   ]
  },
  {
   "cell_type": "code",
   "execution_count": 9,
   "metadata": {},
   "outputs": [],
   "source": [
    "# subsets dataframe\n",
    "alerts_df.drop(alerts_df.columns.difference(['alert_subtype_id', 'alert_type_id', 'street', 'publish_date_dt']), 1, inplace=True)"
   ]
  },
  {
   "cell_type": "code",
   "execution_count": 10,
   "metadata": {},
   "outputs": [],
   "source": [
    "# drop duplicates\n",
    "alerts_df.drop_duplicates(inplace=True)"
   ]
  },
  {
   "cell_type": "code",
   "execution_count": 11,
   "metadata": {},
   "outputs": [
    {
     "data": {
      "text/html": [
       "<div>\n",
       "<style scoped>\n",
       "    .dataframe tbody tr th:only-of-type {\n",
       "        vertical-align: middle;\n",
       "    }\n",
       "\n",
       "    .dataframe tbody tr th {\n",
       "        vertical-align: top;\n",
       "    }\n",
       "\n",
       "    .dataframe thead th {\n",
       "        text-align: right;\n",
       "    }\n",
       "</style>\n",
       "<table border=\"1\" class=\"dataframe\">\n",
       "  <thead>\n",
       "    <tr style=\"text-align: right;\">\n",
       "      <th></th>\n",
       "      <th>alert_subtype_id</th>\n",
       "      <th>alert_type_id</th>\n",
       "      <th>street</th>\n",
       "      <th>publish_date_dt</th>\n",
       "    </tr>\n",
       "  </thead>\n",
       "  <tbody>\n",
       "    <tr>\n",
       "      <th>0</th>\n",
       "      <td>13.0</td>\n",
       "      <td>4</td>\n",
       "      <td>Ruta 79</td>\n",
       "      <td>2018-04-01 01:02:02+00:00</td>\n",
       "    </tr>\n",
       "    <tr>\n",
       "      <th>1</th>\n",
       "      <td>4.0</td>\n",
       "      <td>3</td>\n",
       "      <td>Av. Dorsal</td>\n",
       "      <td>2018-04-01 02:30:58+00:00</td>\n",
       "    </tr>\n",
       "    <tr>\n",
       "      <th>2</th>\n",
       "      <td>3.0</td>\n",
       "      <td>3</td>\n",
       "      <td>None</td>\n",
       "      <td>2018-04-01 02:31:00+00:00</td>\n",
       "    </tr>\n",
       "  </tbody>\n",
       "</table>\n",
       "</div>"
      ],
      "text/plain": [
       "   alert_subtype_id  alert_type_id      street           publish_date_dt\n",
       "0              13.0              4     Ruta 79 2018-04-01 01:02:02+00:00\n",
       "1               4.0              3  Av. Dorsal 2018-04-01 02:30:58+00:00\n",
       "2               3.0              3        None 2018-04-01 02:31:00+00:00"
      ]
     },
     "execution_count": 11,
     "metadata": {},
     "output_type": "execute_result"
    }
   ],
   "source": [
    "alerts_df.head(3)"
   ]
  },
  {
   "cell_type": "code",
   "execution_count": 12,
   "metadata": {},
   "outputs": [
    {
     "data": {
      "text/plain": [
       "(115188, 4)"
      ]
     },
     "execution_count": 12,
     "metadata": {},
     "output_type": "execute_result"
    }
   ],
   "source": [
    "alerts_df.shape"
   ]
  },
  {
   "cell_type": "code",
   "execution_count": 13,
   "metadata": {},
   "outputs": [
    {
     "data": {
      "text/plain": [
       "<matplotlib.axes._subplots.AxesSubplot at 0x23a33170be0>"
      ]
     },
     "execution_count": 13,
     "metadata": {},
     "output_type": "execute_result"
    }
   ],
   "source": [
    "alerts_df['alert_type_id'].value_counts().plot(kind='barh')"
   ]
  },
  {
   "cell_type": "code",
   "execution_count": 14,
   "metadata": {},
   "outputs": [
    {
     "data": {
      "text/plain": [
       "<matplotlib.axes._subplots.AxesSubplot at 0x23a33382400>"
      ]
     },
     "execution_count": 14,
     "metadata": {},
     "output_type": "execute_result"
    },
    {
     "data": {
      "image/png": "[encoded data removed]",
      "text/plain": [
       "<Figure size 432x288 with 1 Axes>"
      ]
     },
     "metadata": {
      "needs_background": "light"
     },
     "output_type": "display_data"
    }
   ],
   "source": [
    "alerts_df['alert_subtype_id'][alerts_df['alert_type_id'] == 4].value_counts().plot(kind='barh')"
   ]
  },
  {
   "cell_type": "code",
   "execution_count": 15,
   "metadata": {},
   "outputs": [
    {
     "name": "stdout",
     "output_type": "stream",
     "text": [
      "[ 1.  2.  3.  4.  5.  7.  8.  9. 10. 11. 12. 13. 14. 15. 16. 17. 20. 28.\n",
      " 29. 30. 31. 32. 33. 34. nan]\n"
     ]
    }
   ],
   "source": [
    "print(np.sort(alerts_df['alert_subtype_id'].unique()))"
   ]
  },
  {
   "cell_type": "code",
   "execution_count": 16,
   "metadata": {},
   "outputs": [
    {
     "name": "stdout",
     "output_type": "stream",
     "text": [
      "[ 1.  2. nan]\n"
     ]
    }
   ],
   "source": [
    "print(np.sort(alerts_df['alert_subtype_id'][alerts_df['alert_type_id'] == 2].unique()))"
   ]
  },
  {
   "cell_type": "code",
   "execution_count": 17,
   "metadata": {},
   "outputs": [
    {
     "name": "stdout",
     "output_type": "stream",
     "text": [
      "[ 3.  4.  5. nan]\n"
     ]
    }
   ],
   "source": [
    "print(np.sort(alerts_df['alert_subtype_id'][alerts_df['alert_type_id'] == 3].unique()))"
   ]
  },
  {
   "cell_type": "code",
   "execution_count": 18,
   "metadata": {},
   "outputs": [
    {
     "name": "stdout",
     "output_type": "stream",
     "text": [
      "[ 7.  8.  9. 10. 11. 12. 13. 14. 15. 16. 17. 20. 28. 29. 30. 34. nan]\n"
     ]
    }
   ],
   "source": [
    "print(np.sort(alerts_df['alert_subtype_id'][alerts_df['alert_type_id'] == 4].unique()))"
   ]
  },
  {
   "cell_type": "code",
   "execution_count": 19,
   "metadata": {},
   "outputs": [
    {
     "name": "stdout",
     "output_type": "stream",
     "text": [
      "[31. 32. 33. nan]\n"
     ]
    }
   ],
   "source": [
    "print(np.sort(alerts_df['alert_subtype_id'][alerts_df['alert_type_id'] == 7].unique()))"
   ]
  },
  {
   "cell_type": "markdown",
   "metadata": {},
   "source": [
    "I have to assume that 'alert_type_id' is 3 (JAM) and 'alert_subtype_id' 4 is JAM_HEAVY_TRAFFIC and 5 is JAM_STAND_STILL_TRAFFIC"
   ]
  },
  {
   "cell_type": "code",
   "execution_count": 20,
   "metadata": {},
   "outputs": [
    {
     "data": {
      "text/plain": [
       "(3410,)"
      ]
     },
     "execution_count": 20,
     "metadata": {},
     "output_type": "execute_result"
    }
   ],
   "source": [
    "alerts_df['street'].unique().shape"
   ]
  },
  {
   "cell_type": "code",
   "execution_count": 21,
   "metadata": {},
   "outputs": [],
   "source": [
    "alerts_df = alerts_df.set_index('publish_date_dt').sort_index()"
   ]
  },
  {
   "cell_type": "code",
   "execution_count": 22,
   "metadata": {},
   "outputs": [
    {
     "data": {
      "text/html": [
       "<div>\n",
       "<style scoped>\n",
       "    .dataframe tbody tr th:only-of-type {\n",
       "        vertical-align: middle;\n",
       "    }\n",
       "\n",
       "    .dataframe tbody tr th {\n",
       "        vertical-align: top;\n",
       "    }\n",
       "\n",
       "    .dataframe thead th {\n",
       "        text-align: right;\n",
       "    }\n",
       "</style>\n",
       "<table border=\"1\" class=\"dataframe\">\n",
       "  <thead>\n",
       "    <tr style=\"text-align: right;\">\n",
       "      <th></th>\n",
       "      <th>alert_subtype_id</th>\n",
       "      <th>alert_type_id</th>\n",
       "      <th>street</th>\n",
       "    </tr>\n",
       "    <tr>\n",
       "      <th>publish_date_dt</th>\n",
       "      <th></th>\n",
       "      <th></th>\n",
       "      <th></th>\n",
       "    </tr>\n",
       "  </thead>\n",
       "  <tbody>\n",
       "    <tr>\n",
       "      <th>2016-08-06 17:55:23+00:00</th>\n",
       "      <td>7.0</td>\n",
       "      <td>4</td>\n",
       "      <td>Alberto Llona</td>\n",
       "    </tr>\n",
       "    <tr>\n",
       "      <th>2017-01-14 15:01:37+00:00</th>\n",
       "      <td>7.0</td>\n",
       "      <td>4</td>\n",
       "      <td>Manuel Antonio Matta</td>\n",
       "    </tr>\n",
       "  </tbody>\n",
       "</table>\n",
       "</div>"
      ],
      "text/plain": [
       "                           alert_subtype_id  alert_type_id  \\\n",
       "publish_date_dt                                              \n",
       "2016-08-06 17:55:23+00:00               7.0              4   \n",
       "2017-01-14 15:01:37+00:00               7.0              4   \n",
       "\n",
       "                                         street  \n",
       "publish_date_dt                                  \n",
       "2016-08-06 17:55:23+00:00         Alberto Llona  \n",
       "2017-01-14 15:01:37+00:00  Manuel Antonio Matta  "
      ]
     },
     "execution_count": 22,
     "metadata": {},
     "output_type": "execute_result"
    }
   ],
   "source": [
    "alerts_df.head(2)"
   ]
  },
  {
   "cell_type": "code",
   "execution_count": 24,
   "metadata": {},
   "outputs": [
    {
     "name": "stderr",
     "output_type": "stream",
     "text": [
      "C:\\Users\\nvillalobos\\AppData\\Local\\Continuum\\miniconda3\\envs\\keras_env\\lib\\site-packages\\ipykernel_launcher.py:1: FutureWarning: Currently, 'apply' passes the values as ndarrays to the applied function. In the future, this will change to passing it as Series objects. You need to specify 'raw=True' to keep the current behaviour, and you can pass 'raw=False' to silence this warning\n",
      "  \"\"\"Entry point for launching an IPython kernel.\n"
     ]
    },
    {
     "ename": "TypeError",
     "evalue": "must be real number, not list",
     "output_type": "error",
     "traceback": [
      "\u001b[1;31m---------------------------------------------------------------------------\u001b[0m",
      "\u001b[1;31mTypeError\u001b[0m                                 Traceback (most recent call last)",
      "\u001b[1;32m<ipython-input-24-6042b6074ac3>\u001b[0m in \u001b[0;36m<module>\u001b[1;34m\u001b[0m\n\u001b[1;32m----> 1\u001b[1;33m \u001b[0malerts_df\u001b[0m\u001b[1;33m[\u001b[0m\u001b[0malerts_df\u001b[0m\u001b[1;33m[\u001b[0m\u001b[1;34m'street'\u001b[0m\u001b[1;33m]\u001b[0m \u001b[1;33m==\u001b[0m \u001b[1;34m'Ruta 79'\u001b[0m\u001b[1;33m]\u001b[0m\u001b[1;33m.\u001b[0m\u001b[0malert_subtype_id\u001b[0m\u001b[1;33m.\u001b[0m\u001b[0mrolling\u001b[0m\u001b[1;33m(\u001b[0m\u001b[1;34m'5T'\u001b[0m\u001b[1;33m)\u001b[0m\u001b[1;33m.\u001b[0m\u001b[0mapply\u001b[0m\u001b[1;33m(\u001b[0m\u001b[0mlist\u001b[0m\u001b[1;33m)\u001b[0m\u001b[1;33m\u001b[0m\u001b[1;33m\u001b[0m\u001b[0m\n\u001b[0m",
      "\u001b[1;32m~\\AppData\\Local\\Continuum\\miniconda3\\envs\\keras_env\\lib\\site-packages\\pandas\\core\\window.py\u001b[0m in \u001b[0;36mapply\u001b[1;34m(self, func, raw, args, kwargs)\u001b[0m\n\u001b[0;32m   1701\u001b[0m     \u001b[1;32mdef\u001b[0m \u001b[0mapply\u001b[0m\u001b[1;33m(\u001b[0m\u001b[0mself\u001b[0m\u001b[1;33m,\u001b[0m \u001b[0mfunc\u001b[0m\u001b[1;33m,\u001b[0m \u001b[0mraw\u001b[0m\u001b[1;33m=\u001b[0m\u001b[1;32mNone\u001b[0m\u001b[1;33m,\u001b[0m \u001b[0margs\u001b[0m\u001b[1;33m=\u001b[0m\u001b[1;33m(\u001b[0m\u001b[1;33m)\u001b[0m\u001b[1;33m,\u001b[0m \u001b[0mkwargs\u001b[0m\u001b[1;33m=\u001b[0m\u001b[1;33m{\u001b[0m\u001b[1;33m}\u001b[0m\u001b[1;33m)\u001b[0m\u001b[1;33m:\u001b[0m\u001b[1;33m\u001b[0m\u001b[1;33m\u001b[0m\u001b[0m\n\u001b[0;32m   1702\u001b[0m         return super(Rolling, self).apply(\n\u001b[1;32m-> 1703\u001b[1;33m             func, raw=raw, args=args, kwargs=kwargs)\n\u001b[0m\u001b[0;32m   1704\u001b[0m \u001b[1;33m\u001b[0m\u001b[0m\n\u001b[0;32m   1705\u001b[0m     \u001b[1;33m@\u001b[0m\u001b[0mSubstitution\u001b[0m\u001b[1;33m(\u001b[0m\u001b[0mname\u001b[0m\u001b[1;33m=\u001b[0m\u001b[1;34m'rolling'\u001b[0m\u001b[1;33m)\u001b[0m\u001b[1;33m\u001b[0m\u001b[1;33m\u001b[0m\u001b[0m\n",
      "\u001b[1;32m~\\AppData\\Local\\Continuum\\miniconda3\\envs\\keras_env\\lib\\site-packages\\pandas\\core\\window.py\u001b[0m in \u001b[0;36mapply\u001b[1;34m(self, func, raw, args, kwargs)\u001b[0m\n\u001b[0;32m   1010\u001b[0m \u001b[1;33m\u001b[0m\u001b[0m\n\u001b[0;32m   1011\u001b[0m         return self._apply(f, func, args=args, kwargs=kwargs,\n\u001b[1;32m-> 1012\u001b[1;33m                            center=False, raw=raw)\n\u001b[0m\u001b[0;32m   1013\u001b[0m \u001b[1;33m\u001b[0m\u001b[0m\n\u001b[0;32m   1014\u001b[0m     \u001b[1;32mdef\u001b[0m \u001b[0msum\u001b[0m\u001b[1;33m(\u001b[0m\u001b[0mself\u001b[0m\u001b[1;33m,\u001b[0m \u001b[1;33m*\u001b[0m\u001b[0margs\u001b[0m\u001b[1;33m,\u001b[0m \u001b[1;33m**\u001b[0m\u001b[0mkwargs\u001b[0m\u001b[1;33m)\u001b[0m\u001b[1;33m:\u001b[0m\u001b[1;33m\u001b[0m\u001b[1;33m\u001b[0m\u001b[0m\n",
      "\u001b[1;32m~\\AppData\\Local\\Continuum\\miniconda3\\envs\\keras_env\\lib\\site-packages\\pandas\\core\\window.py\u001b[0m in \u001b[0;36m_apply\u001b[1;34m(self, func, name, window, center, check_minp, **kwargs)\u001b[0m\n\u001b[0;32m    878\u001b[0m                     \u001b[0mresult\u001b[0m \u001b[1;33m=\u001b[0m \u001b[0mnp\u001b[0m\u001b[1;33m.\u001b[0m\u001b[0mapply_along_axis\u001b[0m\u001b[1;33m(\u001b[0m\u001b[0mcalc\u001b[0m\u001b[1;33m,\u001b[0m \u001b[0mself\u001b[0m\u001b[1;33m.\u001b[0m\u001b[0maxis\u001b[0m\u001b[1;33m,\u001b[0m \u001b[0mvalues\u001b[0m\u001b[1;33m)\u001b[0m\u001b[1;33m\u001b[0m\u001b[1;33m\u001b[0m\u001b[0m\n\u001b[0;32m    879\u001b[0m                 \u001b[1;32melse\u001b[0m\u001b[1;33m:\u001b[0m\u001b[1;33m\u001b[0m\u001b[1;33m\u001b[0m\u001b[0m\n\u001b[1;32m--> 880\u001b[1;33m                     \u001b[0mresult\u001b[0m \u001b[1;33m=\u001b[0m \u001b[0mcalc\u001b[0m\u001b[1;33m(\u001b[0m\u001b[0mvalues\u001b[0m\u001b[1;33m)\u001b[0m\u001b[1;33m\u001b[0m\u001b[1;33m\u001b[0m\u001b[0m\n\u001b[0m\u001b[0;32m    881\u001b[0m \u001b[1;33m\u001b[0m\u001b[0m\n\u001b[0;32m    882\u001b[0m             \u001b[1;32mif\u001b[0m \u001b[0mcenter\u001b[0m\u001b[1;33m:\u001b[0m\u001b[1;33m\u001b[0m\u001b[1;33m\u001b[0m\u001b[0m\n",
      "\u001b[1;32m~\\AppData\\Local\\Continuum\\miniconda3\\envs\\keras_env\\lib\\site-packages\\pandas\\core\\window.py\u001b[0m in \u001b[0;36mcalc\u001b[1;34m(x)\u001b[0m\n\u001b[0;32m    872\u001b[0m                 \u001b[1;32mdef\u001b[0m \u001b[0mcalc\u001b[0m\u001b[1;33m(\u001b[0m\u001b[0mx\u001b[0m\u001b[1;33m)\u001b[0m\u001b[1;33m:\u001b[0m\u001b[1;33m\u001b[0m\u001b[1;33m\u001b[0m\u001b[0m\n\u001b[0;32m    873\u001b[0m                     return func(x, window, min_periods=self.min_periods,\n\u001b[1;32m--> 874\u001b[1;33m                                 closed=self.closed)\n\u001b[0m\u001b[0;32m    875\u001b[0m \u001b[1;33m\u001b[0m\u001b[0m\n\u001b[0;32m    876\u001b[0m             \u001b[1;32mwith\u001b[0m \u001b[0mnp\u001b[0m\u001b[1;33m.\u001b[0m\u001b[0merrstate\u001b[0m\u001b[1;33m(\u001b[0m\u001b[0mall\u001b[0m\u001b[1;33m=\u001b[0m\u001b[1;34m'ignore'\u001b[0m\u001b[1;33m)\u001b[0m\u001b[1;33m:\u001b[0m\u001b[1;33m\u001b[0m\u001b[1;33m\u001b[0m\u001b[0m\n",
      "\u001b[1;32m~\\AppData\\Local\\Continuum\\miniconda3\\envs\\keras_env\\lib\\site-packages\\pandas\\core\\window.py\u001b[0m in \u001b[0;36mf\u001b[1;34m(arg, window, min_periods, closed)\u001b[0m\n\u001b[0;32m   1007\u001b[0m             return libwindow.roll_generic(\n\u001b[0;32m   1008\u001b[0m                 \u001b[0marg\u001b[0m\u001b[1;33m,\u001b[0m \u001b[0mwindow\u001b[0m\u001b[1;33m,\u001b[0m \u001b[0mminp\u001b[0m\u001b[1;33m,\u001b[0m \u001b[0mindexi\u001b[0m\u001b[1;33m,\u001b[0m\u001b[1;33m\u001b[0m\u001b[1;33m\u001b[0m\u001b[0m\n\u001b[1;32m-> 1009\u001b[1;33m                 closed, offset, func, raw, args, kwargs)\n\u001b[0m\u001b[0;32m   1010\u001b[0m \u001b[1;33m\u001b[0m\u001b[0m\n\u001b[0;32m   1011\u001b[0m         return self._apply(f, func, args=args, kwargs=kwargs,\n",
      "\u001b[1;32mpandas/_libs/window.pyx\u001b[0m in \u001b[0;36mpandas._libs.window.roll_generic\u001b[1;34m()\u001b[0m\n",
      "\u001b[1;31mTypeError\u001b[0m: must be real number, not list"
     ]
    }
   ],
   "source": [
    "alerts_df[alerts_df['street'] == 'Ruta 79'].alert_subtype_id.rolling('5T').apply(list)"
   ]
  },
  {
   "cell_type": "code",
   "execution_count": null,
   "metadata": {},
   "outputs": [],
   "source": []
  },
  {
   "cell_type": "code",
   "execution_count": null,
   "metadata": {},
   "outputs": [],
   "source": []
  },
  {
   "cell_type": "code",
   "execution_count": 26,
   "metadata": {},
   "outputs": [],
   "source": [
    "alerts_df_jams = alerts_df[(alerts_df['alert_type_id'] == 3) & ((alerts_df['alert_subtype_id'] == 4) | (alerts_df['alert_subtype_id'] == 5))]"
   ]
  },
  {
   "cell_type": "code",
   "execution_count": 27,
   "metadata": {},
   "outputs": [
    {
     "data": {
      "text/html": [
       "<div>\n",
       "<style scoped>\n",
       "    .dataframe tbody tr th:only-of-type {\n",
       "        vertical-align: middle;\n",
       "    }\n",
       "\n",
       "    .dataframe tbody tr th {\n",
       "        vertical-align: top;\n",
       "    }\n",
       "\n",
       "    .dataframe thead th {\n",
       "        text-align: right;\n",
       "    }\n",
       "</style>\n",
       "<table border=\"1\" class=\"dataframe\">\n",
       "  <thead>\n",
       "    <tr style=\"text-align: right;\">\n",
       "      <th></th>\n",
       "      <th>alert_subtype_id</th>\n",
       "      <th>alert_type_id</th>\n",
       "      <th>street</th>\n",
       "      <th>publish_date_dt</th>\n",
       "    </tr>\n",
       "  </thead>\n",
       "  <tbody>\n",
       "    <tr>\n",
       "      <th>1</th>\n",
       "      <td>4.0</td>\n",
       "      <td>3</td>\n",
       "      <td>Av. Dorsal</td>\n",
       "      <td>2018-04-01 02:30:58+00:00</td>\n",
       "    </tr>\n",
       "    <tr>\n",
       "      <th>9</th>\n",
       "      <td>4.0</td>\n",
       "      <td>3</td>\n",
       "      <td>Av. Teniente Luis Cruz Martínez</td>\n",
       "      <td>2018-04-01 02:38:08+00:00</td>\n",
       "    </tr>\n",
       "    <tr>\n",
       "      <th>14</th>\n",
       "      <td>4.0</td>\n",
       "      <td>3</td>\n",
       "      <td>Av. Américo Vespucio</td>\n",
       "      <td>2018-04-01 02:43:12+00:00</td>\n",
       "    </tr>\n",
       "    <tr>\n",
       "      <th>18</th>\n",
       "      <td>4.0</td>\n",
       "      <td>3</td>\n",
       "      <td>Av. La Florida</td>\n",
       "      <td>2018-04-01 02:45:24+00:00</td>\n",
       "    </tr>\n",
       "    <tr>\n",
       "      <th>22</th>\n",
       "      <td>4.0</td>\n",
       "      <td>3</td>\n",
       "      <td>Peaje Troncal Las Canteras</td>\n",
       "      <td>2018-04-01 02:49:27+00:00</td>\n",
       "    </tr>\n",
       "  </tbody>\n",
       "</table>\n",
       "</div>"
      ],
      "text/plain": [
       "    alert_subtype_id  alert_type_id                           street  \\\n",
       "1                4.0              3                       Av. Dorsal   \n",
       "9                4.0              3  Av. Teniente Luis Cruz Martínez   \n",
       "14               4.0              3             Av. Américo Vespucio   \n",
       "18               4.0              3                   Av. La Florida   \n",
       "22               4.0              3       Peaje Troncal Las Canteras   \n",
       "\n",
       "             publish_date_dt  \n",
       "1  2018-04-01 02:30:58+00:00  \n",
       "9  2018-04-01 02:38:08+00:00  \n",
       "14 2018-04-01 02:43:12+00:00  \n",
       "18 2018-04-01 02:45:24+00:00  \n",
       "22 2018-04-01 02:49:27+00:00  "
      ]
     },
     "execution_count": 27,
     "metadata": {},
     "output_type": "execute_result"
    }
   ],
   "source": [
    "alerts_df_jams.head()"
   ]
  },
  {
   "cell_type": "code",
   "execution_count": 23,
   "metadata": {},
   "outputs": [],
   "source": [
    "alerts_df_jams = alerts_df_jams.set_index('publish_date_dt')"
   ]
  },
  {
   "cell_type": "code",
   "execution_count": 24,
   "metadata": {},
   "outputs": [
    {
     "data": {
      "text/html": [
       "<div>\n",
       "<style scoped>\n",
       "    .dataframe tbody tr th:only-of-type {\n",
       "        vertical-align: middle;\n",
       "    }\n",
       "\n",
       "    .dataframe tbody tr th {\n",
       "        vertical-align: top;\n",
       "    }\n",
       "\n",
       "    .dataframe thead th {\n",
       "        text-align: right;\n",
       "    }\n",
       "</style>\n",
       "<table border=\"1\" class=\"dataframe\">\n",
       "  <thead>\n",
       "    <tr style=\"text-align: right;\">\n",
       "      <th></th>\n",
       "      <th>alert_subtype_id</th>\n",
       "      <th>alert_type_id</th>\n",
       "      <th>street</th>\n",
       "    </tr>\n",
       "    <tr>\n",
       "      <th>publish_date_dt</th>\n",
       "      <th></th>\n",
       "      <th></th>\n",
       "      <th></th>\n",
       "    </tr>\n",
       "  </thead>\n",
       "  <tbody>\n",
       "    <tr>\n",
       "      <th>2018-04-01 02:30:58+00:00</th>\n",
       "      <td>4.0</td>\n",
       "      <td>3</td>\n",
       "      <td>Av. Dorsal</td>\n",
       "    </tr>\n",
       "    <tr>\n",
       "      <th>2018-04-01 02:38:08+00:00</th>\n",
       "      <td>4.0</td>\n",
       "      <td>3</td>\n",
       "      <td>Av. Teniente Luis Cruz Martínez</td>\n",
       "    </tr>\n",
       "    <tr>\n",
       "      <th>2018-04-01 02:43:12+00:00</th>\n",
       "      <td>4.0</td>\n",
       "      <td>3</td>\n",
       "      <td>Av. Américo Vespucio</td>\n",
       "    </tr>\n",
       "    <tr>\n",
       "      <th>2018-04-01 02:45:24+00:00</th>\n",
       "      <td>4.0</td>\n",
       "      <td>3</td>\n",
       "      <td>Av. La Florida</td>\n",
       "    </tr>\n",
       "    <tr>\n",
       "      <th>2018-04-01 02:49:27+00:00</th>\n",
       "      <td>4.0</td>\n",
       "      <td>3</td>\n",
       "      <td>Peaje Troncal Las Canteras</td>\n",
       "    </tr>\n",
       "  </tbody>\n",
       "</table>\n",
       "</div>"
      ],
      "text/plain": [
       "                           alert_subtype_id  alert_type_id  \\\n",
       "publish_date_dt                                              \n",
       "2018-04-01 02:30:58+00:00               4.0              3   \n",
       "2018-04-01 02:38:08+00:00               4.0              3   \n",
       "2018-04-01 02:43:12+00:00               4.0              3   \n",
       "2018-04-01 02:45:24+00:00               4.0              3   \n",
       "2018-04-01 02:49:27+00:00               4.0              3   \n",
       "\n",
       "                                                    street  \n",
       "publish_date_dt                                             \n",
       "2018-04-01 02:30:58+00:00                       Av. Dorsal  \n",
       "2018-04-01 02:38:08+00:00  Av. Teniente Luis Cruz Martínez  \n",
       "2018-04-01 02:43:12+00:00             Av. Américo Vespucio  \n",
       "2018-04-01 02:45:24+00:00                   Av. La Florida  \n",
       "2018-04-01 02:49:27+00:00       Peaje Troncal Las Canteras  "
      ]
     },
     "execution_count": 24,
     "metadata": {},
     "output_type": "execute_result"
    }
   ],
   "source": [
    "alerts_df_jams.head()"
   ]
  },
  {
   "cell_type": "code",
   "execution_count": null,
   "metadata": {},
   "outputs": [],
   "source": [
    ".apply(list)"
   ]
  },
  {
   "cell_type": "code",
   "execution_count": null,
   "metadata": {},
   "outputs": [],
   "source": [
    "def rolling_to_list(x,df,time_window):\n",
    "    return df[df['street'] == x['street']].rolling(time_window).alert_subtype_id.list()\n",
    "    "
   ]
  }
 ],
 "metadata": {
  "kernelspec": {
   "display_name": "Python 3",
   "language": "python",
   "name": "python3"
  },
  "language_info": {
   "codemirror_mode": {
    "name": "ipython",
    "version": 3
   },
   "file_extension": ".py",
   "mimetype": "text/x-python",
   "name": "python",
   "nbconvert_exporter": "python",
   "pygments_lexer": "ipython3",
   "version": "3.6.9"
  }
 },
 "nbformat": 4,
 "nbformat_minor": 4
}
