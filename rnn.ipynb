{
 "cells": [
  {
   "cell_type": "code",
   "execution_count": 33,
   "metadata": {},
   "outputs": [],
   "source": [
    "import json\n",
    "import pandas as pd\n",
    "from pathlib import Path\n",
    "import numpy as np\n",
    "import seaborn as sns"
   ]
  },
  {
   "cell_type": "code",
   "execution_count": 18,
   "metadata": {},
   "outputs": [],
   "source": [
    "folder_path = 'E:/work/data/waze-trafmine/2018/4'"
   ]
  },
  {
   "cell_type": "code",
   "execution_count": 19,
   "metadata": {},
   "outputs": [],
   "source": [
    "def from_json_folder_to_json_docs(folder_path):\n",
    "    pathlist = Path(folder_path).glob('**/*.json')\n",
    "    json_docs = []\n",
    "    for path in pathlist:\n",
    "        # because path is object not string\n",
    "        path_in_str = str(path)\n",
    "        print('processing file: ' + path_in_str)\n",
    "        with open(path_in_str, encoding=\"utf8\") as f:\n",
    "            json_file = json.load(f)\n",
    "            json_docs.append(json_file)\n",
    "    print('Done!')\n",
    "    return json_docs"
   ]
  },
  {
   "cell_type": "code",
   "execution_count": 20,
   "metadata": {},
   "outputs": [
    {
     "name": "stdout",
     "output_type": "stream",
     "text": [
      "processing file: E:\\work\\data\\waze-trafmine\\2018\\4\\1-10.json\n",
      "processing file: E:\\work\\data\\waze-trafmine\\2018\\4\\11-20.json\n",
      "processing file: E:\\work\\data\\waze-trafmine\\2018\\4\\21-30.json\n"
     ]
    }
   ],
   "source": [
    "json_data = from_json_folder_to_json_docs(folder_path)"
   ]
  },
  {
   "cell_type": "code",
   "execution_count": 21,
   "metadata": {},
   "outputs": [],
   "source": [
    "first_it = True\n",
    "for json in json_data:\n",
    "    #print(json.keys())\n",
    "    if first_it != True:\n",
    "        alerts_df.append(pd.DataFrame(json['alerts']), ignore_index=True)\n",
    "        jams_df.append(pd.DataFrame(json['jams']), ignore_index=True)\n",
    "    else:\n",
    "        alerts_df = pd.DataFrame(json['alerts'])\n",
    "        jams_df = pd.DataFrame(json['jams'])\n",
    "        first_it = False"
   ]
  },
  {
   "cell_type": "code",
   "execution_count": 22,
   "metadata": {},
   "outputs": [
    {
     "data": {
      "text/html": [
       "<div>\n",
       "<style scoped>\n",
       "    .dataframe tbody tr th:only-of-type {\n",
       "        vertical-align: middle;\n",
       "    }\n",
       "\n",
       "    .dataframe tbody tr th {\n",
       "        vertical-align: top;\n",
       "    }\n",
       "\n",
       "    .dataframe thead th {\n",
       "        text-align: right;\n",
       "    }\n",
       "</style>\n",
       "<table border=\"1\" class=\"dataframe\">\n",
       "  <thead>\n",
       "    <tr style=\"text-align: right;\">\n",
       "      <th></th>\n",
       "      <th>alert_subtype_id</th>\n",
       "      <th>alert_type_id</th>\n",
       "      <th>city</th>\n",
       "      <th>confidence</th>\n",
       "      <th>country</th>\n",
       "      <th>jam_uuid</th>\n",
       "      <th>last_seen</th>\n",
       "      <th>location</th>\n",
       "      <th>magvar</th>\n",
       "      <th>publish_date</th>\n",
       "      <th>reliability</th>\n",
       "      <th>report_by_partner</th>\n",
       "      <th>report_description</th>\n",
       "      <th>report_rating</th>\n",
       "      <th>road_type</th>\n",
       "      <th>street</th>\n",
       "      <th>thumbs_up</th>\n",
       "      <th>uuid</th>\n",
       "    </tr>\n",
       "  </thead>\n",
       "  <tbody>\n",
       "    <tr>\n",
       "      <th>0</th>\n",
       "      <td>13.0</td>\n",
       "      <td>4</td>\n",
       "      <td>None</td>\n",
       "      <td>5</td>\n",
       "      <td>CI</td>\n",
       "      <td>None</td>\n",
       "      <td>2018-04-01T03:00:21+00:00</td>\n",
       "      <td>[-70.646227, -33.635035]</td>\n",
       "      <td>265</td>\n",
       "      <td>2018-04-01T01:02:02+00:00</td>\n",
       "      <td>10</td>\n",
       "      <td>None</td>\n",
       "      <td>None</td>\n",
       "      <td>0</td>\n",
       "      <td>3.0</td>\n",
       "      <td>Ruta 79</td>\n",
       "      <td>0</td>\n",
       "      <td>8271e6bf-fca0-3cad-bac4-6a6959d16b1c</td>\n",
       "    </tr>\n",
       "    <tr>\n",
       "      <th>1</th>\n",
       "      <td>4.0</td>\n",
       "      <td>3</td>\n",
       "      <td>Conchalí</td>\n",
       "      <td>0</td>\n",
       "      <td>CI</td>\n",
       "      <td>None</td>\n",
       "      <td>2018-04-01T03:00:21+00:00</td>\n",
       "      <td>[-70.670608, -33.398605]</td>\n",
       "      <td>56</td>\n",
       "      <td>2018-04-01T02:30:58+00:00</td>\n",
       "      <td>5</td>\n",
       "      <td>None</td>\n",
       "      <td>None</td>\n",
       "      <td>1</td>\n",
       "      <td>2.0</td>\n",
       "      <td>Av. Dorsal</td>\n",
       "      <td>0</td>\n",
       "      <td>e7b8841f-a144-3b7d-b685-05bc447b73fd</td>\n",
       "    </tr>\n",
       "    <tr>\n",
       "      <th>2</th>\n",
       "      <td>3.0</td>\n",
       "      <td>3</td>\n",
       "      <td>Ñuñoa</td>\n",
       "      <td>0</td>\n",
       "      <td>CI</td>\n",
       "      <td>None</td>\n",
       "      <td>2018-04-01T03:00:21+00:00</td>\n",
       "      <td>[-70.575705, -33.469535]</td>\n",
       "      <td>2</td>\n",
       "      <td>2018-04-01T02:31:00+00:00</td>\n",
       "      <td>5</td>\n",
       "      <td>None</td>\n",
       "      <td>None</td>\n",
       "      <td>1</td>\n",
       "      <td>2.0</td>\n",
       "      <td>None</td>\n",
       "      <td>0</td>\n",
       "      <td>e1c149d5-4383-3490-bb2d-550156e3ad51</td>\n",
       "    </tr>\n",
       "    <tr>\n",
       "      <th>3</th>\n",
       "      <td>30.0</td>\n",
       "      <td>4</td>\n",
       "      <td>Las Condes</td>\n",
       "      <td>1</td>\n",
       "      <td>CI</td>\n",
       "      <td>None</td>\n",
       "      <td>2018-04-01T03:00:21+00:00</td>\n",
       "      <td>[-70.578789, -33.423608]</td>\n",
       "      <td>321</td>\n",
       "      <td>2018-04-01T02:47:19+00:00</td>\n",
       "      <td>10</td>\n",
       "      <td>None</td>\n",
       "      <td>None</td>\n",
       "      <td>5</td>\n",
       "      <td>2.0</td>\n",
       "      <td>Av. Américo Vespucio Sur</td>\n",
       "      <td>0</td>\n",
       "      <td>ed5b472c-e1fa-3d35-a3fd-d8ba084b00d7</td>\n",
       "    </tr>\n",
       "    <tr>\n",
       "      <th>4</th>\n",
       "      <td>30.0</td>\n",
       "      <td>4</td>\n",
       "      <td>Maipú</td>\n",
       "      <td>1</td>\n",
       "      <td>CI</td>\n",
       "      <td>None</td>\n",
       "      <td>2018-04-01T03:05:19+00:00</td>\n",
       "      <td>[-70.754093, -33.523078]</td>\n",
       "      <td>296</td>\n",
       "      <td>2018-04-01T02:21:05+00:00</td>\n",
       "      <td>8</td>\n",
       "      <td>None</td>\n",
       "      <td>None</td>\n",
       "      <td>2</td>\n",
       "      <td>1.0</td>\n",
       "      <td>Vicente Reyes</td>\n",
       "      <td>0</td>\n",
       "      <td>eee63ebc-94b6-32f8-a9e9-6fb392f64559</td>\n",
       "    </tr>\n",
       "  </tbody>\n",
       "</table>\n",
       "</div>"
      ],
      "text/plain": [
       "   alert_subtype_id  alert_type_id        city  confidence country jam_uuid  \\\n",
       "0              13.0              4        None           5      CI     None   \n",
       "1               4.0              3    Conchalí           0      CI     None   \n",
       "2               3.0              3       Ñuñoa           0      CI     None   \n",
       "3              30.0              4  Las Condes           1      CI     None   \n",
       "4              30.0              4       Maipú           1      CI     None   \n",
       "\n",
       "                   last_seen                  location  magvar  \\\n",
       "0  2018-04-01T03:00:21+00:00  [-70.646227, -33.635035]     265   \n",
       "1  2018-04-01T03:00:21+00:00  [-70.670608, -33.398605]      56   \n",
       "2  2018-04-01T03:00:21+00:00  [-70.575705, -33.469535]       2   \n",
       "3  2018-04-01T03:00:21+00:00  [-70.578789, -33.423608]     321   \n",
       "4  2018-04-01T03:05:19+00:00  [-70.754093, -33.523078]     296   \n",
       "\n",
       "                publish_date  reliability report_by_partner  \\\n",
       "0  2018-04-01T01:02:02+00:00           10              None   \n",
       "1  2018-04-01T02:30:58+00:00            5              None   \n",
       "2  2018-04-01T02:31:00+00:00            5              None   \n",
       "3  2018-04-01T02:47:19+00:00           10              None   \n",
       "4  2018-04-01T02:21:05+00:00            8              None   \n",
       "\n",
       "  report_description  report_rating  road_type                    street  \\\n",
       "0               None              0        3.0                   Ruta 79   \n",
       "1               None              1        2.0                Av. Dorsal   \n",
       "2               None              1        2.0                      None   \n",
       "3               None              5        2.0  Av. Américo Vespucio Sur   \n",
       "4               None              2        1.0             Vicente Reyes   \n",
       "\n",
       "   thumbs_up                                  uuid  \n",
       "0          0  8271e6bf-fca0-3cad-bac4-6a6959d16b1c  \n",
       "1          0  e7b8841f-a144-3b7d-b685-05bc447b73fd  \n",
       "2          0  e1c149d5-4383-3490-bb2d-550156e3ad51  \n",
       "3          0  ed5b472c-e1fa-3d35-a3fd-d8ba084b00d7  \n",
       "4          0  eee63ebc-94b6-32f8-a9e9-6fb392f64559  "
      ]
     },
     "execution_count": 22,
     "metadata": {},
     "output_type": "execute_result"
    }
   ],
   "source": [
    "alerts_df.head()"
   ]
  },
  {
   "cell_type": "code",
   "execution_count": 42,
   "metadata": {},
   "outputs": [
    {
     "data": {
      "text/plain": [
       "(115547, 18)"
      ]
     },
     "execution_count": 42,
     "metadata": {},
     "output_type": "execute_result"
    }
   ],
   "source": [
    "alerts_df.shape"
   ]
  },
  {
   "cell_type": "code",
   "execution_count": 23,
   "metadata": {},
   "outputs": [
    {
     "data": {
      "text/html": [
       "<div>\n",
       "<style scoped>\n",
       "    .dataframe tbody tr th:only-of-type {\n",
       "        vertical-align: middle;\n",
       "    }\n",
       "\n",
       "    .dataframe tbody tr th {\n",
       "        vertical-align: top;\n",
       "    }\n",
       "\n",
       "    .dataframe thead th {\n",
       "        text-align: right;\n",
       "    }\n",
       "</style>\n",
       "<table border=\"1\" class=\"dataframe\">\n",
       "  <thead>\n",
       "    <tr style=\"text-align: right;\">\n",
       "      <th></th>\n",
       "      <th>alert_uuid</th>\n",
       "      <th>city</th>\n",
       "      <th>country</th>\n",
       "      <th>end_node</th>\n",
       "      <th>last_seen</th>\n",
       "      <th>publish_date</th>\n",
       "      <th>revisions</th>\n",
       "      <th>road_type</th>\n",
       "      <th>start_node</th>\n",
       "      <th>street</th>\n",
       "      <th>turn_type</th>\n",
       "      <th>type</th>\n",
       "      <th>uuid</th>\n",
       "    </tr>\n",
       "  </thead>\n",
       "  <tbody>\n",
       "    <tr>\n",
       "      <th>0</th>\n",
       "      <td>None</td>\n",
       "      <td>Independencia</td>\n",
       "      <td>CI</td>\n",
       "      <td>Av. Independencia</td>\n",
       "      <td>2018-04-01T03:00:21+00:00</td>\n",
       "      <td>2018-03-13T09:28:51+00:00</td>\n",
       "      <td>[{'level': 5, 'length': 122, 'speed': 0, 'dela...</td>\n",
       "      <td>1</td>\n",
       "      <td>None</td>\n",
       "      <td>San Luis</td>\n",
       "      <td>NONE</td>\n",
       "      <td>NONE</td>\n",
       "      <td>1690519958</td>\n",
       "    </tr>\n",
       "    <tr>\n",
       "      <th>1</th>\n",
       "      <td>None</td>\n",
       "      <td>Independencia</td>\n",
       "      <td>CI</td>\n",
       "      <td>Carrión</td>\n",
       "      <td>2018-04-01T03:00:21+00:00</td>\n",
       "      <td>2018-03-13T09:28:52+00:00</td>\n",
       "      <td>[{'level': 5, 'length': 114, 'speed': 0, 'dela...</td>\n",
       "      <td>2</td>\n",
       "      <td>None</td>\n",
       "      <td>Av. Independencia</td>\n",
       "      <td>NONE</td>\n",
       "      <td>NONE</td>\n",
       "      <td>1689021580</td>\n",
       "    </tr>\n",
       "    <tr>\n",
       "      <th>2</th>\n",
       "      <td>None</td>\n",
       "      <td>Quilicura</td>\n",
       "      <td>CI</td>\n",
       "      <td>San Luis</td>\n",
       "      <td>2018-04-01T03:00:21+00:00</td>\n",
       "      <td>2018-04-01T02:09:36+00:00</td>\n",
       "      <td>[{'level': 4, 'length': 169, 'speed': 1.369444...</td>\n",
       "      <td>2</td>\n",
       "      <td>None</td>\n",
       "      <td>Av. General San Martín</td>\n",
       "      <td>NONE</td>\n",
       "      <td>NONE</td>\n",
       "      <td>1141252470</td>\n",
       "    </tr>\n",
       "    <tr>\n",
       "      <th>3</th>\n",
       "      <td>None</td>\n",
       "      <td>Estación Central</td>\n",
       "      <td>CI</td>\n",
       "      <td>Av. 5 de abril</td>\n",
       "      <td>2018-04-01T03:00:21+00:00</td>\n",
       "      <td>2018-04-01T02:49:03+00:00</td>\n",
       "      <td>[{'level': 2, 'length': 239, 'speed': 1.705555...</td>\n",
       "      <td>1</td>\n",
       "      <td>None</td>\n",
       "      <td>Altarcillo</td>\n",
       "      <td>NONE</td>\n",
       "      <td>NONE</td>\n",
       "      <td>1148702766</td>\n",
       "    </tr>\n",
       "    <tr>\n",
       "      <th>4</th>\n",
       "      <td>None</td>\n",
       "      <td>San Ramón</td>\n",
       "      <td>CI</td>\n",
       "      <td>Javiera Carrera</td>\n",
       "      <td>2018-04-01T03:00:21+00:00</td>\n",
       "      <td>2018-04-01T02:49:04+00:00</td>\n",
       "      <td>[{'level': 3, 'length': 174, 'speed': 1.219444...</td>\n",
       "      <td>1</td>\n",
       "      <td>None</td>\n",
       "      <td>Sargento Candelaria</td>\n",
       "      <td>NONE</td>\n",
       "      <td>NONE</td>\n",
       "      <td>1149163148</td>\n",
       "    </tr>\n",
       "  </tbody>\n",
       "</table>\n",
       "</div>"
      ],
      "text/plain": [
       "  alert_uuid              city country           end_node  \\\n",
       "0       None     Independencia      CI  Av. Independencia   \n",
       "1       None     Independencia      CI            Carrión   \n",
       "2       None         Quilicura      CI           San Luis   \n",
       "3       None  Estación Central      CI     Av. 5 de abril   \n",
       "4       None         San Ramón      CI    Javiera Carrera   \n",
       "\n",
       "                   last_seen               publish_date  \\\n",
       "0  2018-04-01T03:00:21+00:00  2018-03-13T09:28:51+00:00   \n",
       "1  2018-04-01T03:00:21+00:00  2018-03-13T09:28:52+00:00   \n",
       "2  2018-04-01T03:00:21+00:00  2018-04-01T02:09:36+00:00   \n",
       "3  2018-04-01T03:00:21+00:00  2018-04-01T02:49:03+00:00   \n",
       "4  2018-04-01T03:00:21+00:00  2018-04-01T02:49:04+00:00   \n",
       "\n",
       "                                           revisions  road_type start_node  \\\n",
       "0  [{'level': 5, 'length': 122, 'speed': 0, 'dela...          1       None   \n",
       "1  [{'level': 5, 'length': 114, 'speed': 0, 'dela...          2       None   \n",
       "2  [{'level': 4, 'length': 169, 'speed': 1.369444...          2       None   \n",
       "3  [{'level': 2, 'length': 239, 'speed': 1.705555...          1       None   \n",
       "4  [{'level': 3, 'length': 174, 'speed': 1.219444...          1       None   \n",
       "\n",
       "                   street turn_type  type        uuid  \n",
       "0                San Luis      NONE  NONE  1690519958  \n",
       "1       Av. Independencia      NONE  NONE  1689021580  \n",
       "2  Av. General San Martín      NONE  NONE  1141252470  \n",
       "3              Altarcillo      NONE  NONE  1148702766  \n",
       "4     Sargento Candelaria      NONE  NONE  1149163148  "
      ]
     },
     "execution_count": 23,
     "metadata": {},
     "output_type": "execute_result"
    }
   ],
   "source": [
    "jams_df.head()"
   ]
  },
  {
   "cell_type": "code",
   "execution_count": 24,
   "metadata": {},
   "outputs": [
    {
     "data": {
      "text/plain": [
       "<matplotlib.axes._subplots.AxesSubplot at 0x214ea2828d0>"
      ]
     },
     "execution_count": 24,
     "metadata": {},
     "output_type": "execute_result"
    },
    {
     "data": {
      "image/png": "[encoded data removed]",
      "text/plain": [
       "<Figure size 432x288 with 1 Axes>"
      ]
     },
     "metadata": {
      "needs_background": "light"
     },
     "output_type": "display_data"
    }
   ],
   "source": [
    "alerts_df['alert_type_id'].hist()"
   ]
  },
  {
   "cell_type": "code",
   "execution_count": 36,
   "metadata": {},
   "outputs": [
    {
     "data": {
      "text/plain": [
       "<matplotlib.axes._subplots.AxesSubplot at 0x2149b9113c8>"
      ]
     },
     "execution_count": 36,
     "metadata": {},
     "output_type": "execute_result"
    },
    {
     "data": {
      "image/png": "[encoded data removed]",
      "text/plain": [
       "<Figure size 432x288 with 1 Axes>"
      ]
     },
     "metadata": {
      "needs_background": "light"
     },
     "output_type": "display_data"
    }
   ],
   "source": [
    "alerts_df['alert_subtype_id'][alerts_df['alert_type_id'] == 4].hist(bins = 35)"
   ]
  },
  {
   "cell_type": "code",
   "execution_count": 34,
   "metadata": {},
   "outputs": [
    {
     "name": "stdout",
     "output_type": "stream",
     "text": [
      "[  1.   2.   3.   4.   5.   7.   8.   9.  10.  11.  12.  13.  14.  15.  16.\n",
      "  17.  20.  28.  29.  30.  31.  32.  33.  34.  nan]\n"
     ]
    }
   ],
   "source": [
    "print(np.sort(alerts_df['alert_subtype_id'].unique()))"
   ]
  },
  {
   "cell_type": "code",
   "execution_count": 48,
   "metadata": {},
   "outputs": [
    {
     "name": "stdout",
     "output_type": "stream",
     "text": [
      "[  1.   2.  nan]\n"
     ]
    }
   ],
   "source": [
    "print(np.sort(alerts_df['alert_subtype_id'][alerts_df['alert_type_id'] == 2].unique()))"
   ]
  },
  {
   "cell_type": "code",
   "execution_count": 47,
   "metadata": {},
   "outputs": [
    {
     "name": "stdout",
     "output_type": "stream",
     "text": [
      "[  3.   4.   5.  nan]\n"
     ]
    }
   ],
   "source": [
    "print(np.sort(alerts_df['alert_subtype_id'][alerts_df['alert_type_id'] == 3].unique()))"
   ]
  },
  {
   "cell_type": "code",
   "execution_count": 37,
   "metadata": {},
   "outputs": [
    {
     "name": "stdout",
     "output_type": "stream",
     "text": [
      "[  7.   8.   9.  10.  11.  12.  13.  14.  15.  16.  17.  20.  28.  29.  30.\n",
      "  34.  nan]\n"
     ]
    }
   ],
   "source": [
    "print(np.sort(alerts_df['alert_subtype_id'][alerts_df['alert_type_id'] == 4].unique()))"
   ]
  },
  {
   "cell_type": "code",
   "execution_count": 41,
   "metadata": {},
   "outputs": [
    {
     "name": "stdout",
     "output_type": "stream",
     "text": [
      "573\n"
     ]
    }
   ],
   "source": [
    "print(len(alerts_df['alert_subtype_id'][(alerts_df['alert_type_id'] == 4) & (alerts_df['alert_subtype_id'] == 34)]))"
   ]
  },
  {
   "cell_type": "code",
   "execution_count": 50,
   "metadata": {},
   "outputs": [
    {
     "name": "stdout",
     "output_type": "stream",
     "text": [
      "[ 31.  32.  33.  nan]\n"
     ]
    }
   ],
   "source": [
    "print(np.sort(alerts_df['alert_subtype_id'][alerts_df['alert_type_id'] == 7].unique()))"
   ]
  },
  {
   "cell_type": "code",
   "execution_count": null,
   "metadata": {},
   "outputs": [],
   "source": []
  }
 ],
 "metadata": {
  "kernelspec": {
   "display_name": "Python 3",
   "language": "python",
   "name": "python3"
  },
  "language_info": {
   "codemirror_mode": {
    "name": "ipython",
    "version": 3
   },
   "file_extension": ".py",
   "mimetype": "text/x-python",
   "name": "python",
   "nbconvert_exporter": "python",
   "pygments_lexer": "ipython3",
   "version": "3.6.9"
  }
 },
 "nbformat": 4,
 "nbformat_minor": 4
}
