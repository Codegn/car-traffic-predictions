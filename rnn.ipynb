{
 "cells": [
  {
   "cell_type": "code",
   "execution_count": 21,
   "metadata": {},
   "outputs": [],
   "source": [
    "import json\n",
    "import pandas as pd\n",
    "from pathlib import Path\n",
    "import numpy as np"
   ]
  },
  {
   "cell_type": "code",
   "execution_count": 26,
   "metadata": {},
   "outputs": [
    {
     "name": "stdout",
     "output_type": "stream",
     "text": [
      "/home/jovyan/work\n"
     ]
    }
   ],
   "source": [
    "import os\n",
    "print(os.getcwd())"
   ]
  },
  {
   "cell_type": "code",
   "execution_count": 27,
   "metadata": {},
   "outputs": [],
   "source": [
    "folder_path = 'data/4'"
   ]
  },
  {
   "cell_type": "code",
   "execution_count": 28,
   "metadata": {},
   "outputs": [],
   "source": [
    "def from_json_folder_to_json_docs(folder_path):\n",
    "    pathlist = Path(folder_path).glob('**/*.json')\n",
    "    json_docs = []\n",
    "    for path in pathlist:\n",
    "        # because path is object not string\n",
    "        path_in_str = str(path)\n",
    "        print('processing file: ' + path_in_str)\n",
    "        with open(path_in_str, encoding=\"utf8\") as f:\n",
    "            json_file = json.load(f)\n",
    "            json_docs.append(json_file)\n",
    "    print('Done!')\n",
    "    return json_docs"
   ]
  },
  {
   "cell_type": "code",
   "execution_count": 29,
   "metadata": {},
   "outputs": [
    {
     "name": "stdout",
     "output_type": "stream",
     "text": [
      "processing file: data/4/1-10.json\n",
      "processing file: data/4/11-20.json\n",
      "processing file: data/4/21-30.json\n",
      "Done!\n"
     ]
    }
   ],
   "source": [
    "json_data = from_json_folder_to_json_docs(folder_path)"
   ]
  },
  {
   "cell_type": "code",
   "execution_count": 30,
   "metadata": {},
   "outputs": [],
   "source": [
    "first_it = True\n",
    "for json in json_data:\n",
    "    #print(json.keys())\n",
    "    if first_it != True:\n",
    "        alerts_df.append(pd.DataFrame(json['alerts']), ignore_index=True)\n",
    "        jams_df.append(pd.DataFrame(json['jams']), ignore_index=True)\n",
    "    else:\n",
    "        alerts_df = pd.DataFrame(json['alerts'])\n",
    "        jams_df = pd.DataFrame(json['jams'])\n",
    "        first_it = False"
   ]
  },
  {
   "cell_type": "code",
   "execution_count": 31,
   "metadata": {},
   "outputs": [],
   "source": [
    "del json_data"
   ]
  },
  {
   "cell_type": "code",
   "execution_count": 32,
   "metadata": {},
   "outputs": [
    {
     "data": {
      "text/html": [
       "<div>\n",
       "<style scoped>\n",
       "    .dataframe tbody tr th:only-of-type {\n",
       "        vertical-align: middle;\n",
       "    }\n",
       "\n",
       "    .dataframe tbody tr th {\n",
       "        vertical-align: top;\n",
       "    }\n",
       "\n",
       "    .dataframe thead th {\n",
       "        text-align: right;\n",
       "    }\n",
       "</style>\n",
       "<table border=\"1\" class=\"dataframe\">\n",
       "  <thead>\n",
       "    <tr style=\"text-align: right;\">\n",
       "      <th></th>\n",
       "      <th>uuid</th>\n",
       "      <th>alert_type_id</th>\n",
       "      <th>alert_subtype_id</th>\n",
       "      <th>country</th>\n",
       "      <th>report_rating</th>\n",
       "      <th>confidence</th>\n",
       "      <th>reliability</th>\n",
       "      <th>magvar</th>\n",
       "      <th>location</th>\n",
       "      <th>publish_date</th>\n",
       "      <th>last_seen</th>\n",
       "      <th>city</th>\n",
       "      <th>road_type</th>\n",
       "      <th>street</th>\n",
       "      <th>report_description</th>\n",
       "      <th>thumbs_up</th>\n",
       "      <th>report_by_partner</th>\n",
       "      <th>jam_uuid</th>\n",
       "    </tr>\n",
       "  </thead>\n",
       "  <tbody>\n",
       "    <tr>\n",
       "      <th>0</th>\n",
       "      <td>8271e6bf-fca0-3cad-bac4-6a6959d16b1c</td>\n",
       "      <td>4</td>\n",
       "      <td>13.0</td>\n",
       "      <td>CI</td>\n",
       "      <td>0</td>\n",
       "      <td>5</td>\n",
       "      <td>10</td>\n",
       "      <td>265</td>\n",
       "      <td>[-70.646227, -33.635035]</td>\n",
       "      <td>2018-04-01T01:02:02+00:00</td>\n",
       "      <td>2018-04-01T03:00:21+00:00</td>\n",
       "      <td>None</td>\n",
       "      <td>3.0</td>\n",
       "      <td>Ruta 79</td>\n",
       "      <td>None</td>\n",
       "      <td>0</td>\n",
       "      <td>None</td>\n",
       "      <td>None</td>\n",
       "    </tr>\n",
       "    <tr>\n",
       "      <th>1</th>\n",
       "      <td>e7b8841f-a144-3b7d-b685-05bc447b73fd</td>\n",
       "      <td>3</td>\n",
       "      <td>4.0</td>\n",
       "      <td>CI</td>\n",
       "      <td>1</td>\n",
       "      <td>0</td>\n",
       "      <td>5</td>\n",
       "      <td>56</td>\n",
       "      <td>[-70.670608, -33.398605]</td>\n",
       "      <td>2018-04-01T02:30:58+00:00</td>\n",
       "      <td>2018-04-01T03:00:21+00:00</td>\n",
       "      <td>Conchalí</td>\n",
       "      <td>2.0</td>\n",
       "      <td>Av. Dorsal</td>\n",
       "      <td>None</td>\n",
       "      <td>0</td>\n",
       "      <td>None</td>\n",
       "      <td>None</td>\n",
       "    </tr>\n",
       "    <tr>\n",
       "      <th>2</th>\n",
       "      <td>e1c149d5-4383-3490-bb2d-550156e3ad51</td>\n",
       "      <td>3</td>\n",
       "      <td>3.0</td>\n",
       "      <td>CI</td>\n",
       "      <td>1</td>\n",
       "      <td>0</td>\n",
       "      <td>5</td>\n",
       "      <td>2</td>\n",
       "      <td>[-70.575705, -33.469535]</td>\n",
       "      <td>2018-04-01T02:31:00+00:00</td>\n",
       "      <td>2018-04-01T03:00:21+00:00</td>\n",
       "      <td>Ñuñoa</td>\n",
       "      <td>2.0</td>\n",
       "      <td>None</td>\n",
       "      <td>None</td>\n",
       "      <td>0</td>\n",
       "      <td>None</td>\n",
       "      <td>None</td>\n",
       "    </tr>\n",
       "  </tbody>\n",
       "</table>\n",
       "</div>"
      ],
      "text/plain": [
       "                                   uuid  alert_type_id  alert_subtype_id  \\\n",
       "0  8271e6bf-fca0-3cad-bac4-6a6959d16b1c              4              13.0   \n",
       "1  e7b8841f-a144-3b7d-b685-05bc447b73fd              3               4.0   \n",
       "2  e1c149d5-4383-3490-bb2d-550156e3ad51              3               3.0   \n",
       "\n",
       "  country  report_rating  confidence  reliability  magvar  \\\n",
       "0      CI              0           5           10     265   \n",
       "1      CI              1           0            5      56   \n",
       "2      CI              1           0            5       2   \n",
       "\n",
       "                   location               publish_date  \\\n",
       "0  [-70.646227, -33.635035]  2018-04-01T01:02:02+00:00   \n",
       "1  [-70.670608, -33.398605]  2018-04-01T02:30:58+00:00   \n",
       "2  [-70.575705, -33.469535]  2018-04-01T02:31:00+00:00   \n",
       "\n",
       "                   last_seen      city  road_type      street  \\\n",
       "0  2018-04-01T03:00:21+00:00      None        3.0     Ruta 79   \n",
       "1  2018-04-01T03:00:21+00:00  Conchalí        2.0  Av. Dorsal   \n",
       "2  2018-04-01T03:00:21+00:00     Ñuñoa        2.0        None   \n",
       "\n",
       "  report_description  thumbs_up report_by_partner jam_uuid  \n",
       "0               None          0              None     None  \n",
       "1               None          0              None     None  \n",
       "2               None          0              None     None  "
      ]
     },
     "execution_count": 32,
     "metadata": {},
     "output_type": "execute_result"
    }
   ],
   "source": [
    "alerts_df.head(3)"
   ]
  },
  {
   "cell_type": "code",
   "execution_count": 33,
   "metadata": {},
   "outputs": [
    {
     "data": {
      "text/plain": [
       "(115547, 18)"
      ]
     },
     "execution_count": 33,
     "metadata": {},
     "output_type": "execute_result"
    }
   ],
   "source": [
    "alerts_df.shape"
   ]
  },
  {
   "cell_type": "code",
   "execution_count": 34,
   "metadata": {},
   "outputs": [],
   "source": [
    "# parse date to datetime object\n",
    "alerts_df['publish_date_dt'] = pd.to_datetime(alerts_df['publish_date'])"
   ]
  },
  {
   "cell_type": "code",
   "execution_count": 35,
   "metadata": {},
   "outputs": [],
   "source": [
    "# subsets dataframe\n",
    "alerts_df.drop(alerts_df.columns.difference(['alert_subtype_id', 'alert_type_id', 'street', 'publish_date_dt']), 1, inplace=True)"
   ]
  },
  {
   "cell_type": "code",
   "execution_count": 36,
   "metadata": {},
   "outputs": [],
   "source": [
    "# drop duplicates\n",
    "alerts_df.drop_duplicates(inplace=True)"
   ]
  },
  {
   "cell_type": "code",
   "execution_count": 37,
   "metadata": {},
   "outputs": [],
   "source": [
    "# drop nans from alert_subtype_id, street\n",
    "alerts_df.dropna(subset=['alert_subtype_id','street'], inplace=True)"
   ]
  },
  {
   "cell_type": "code",
   "execution_count": 38,
   "metadata": {},
   "outputs": [],
   "source": [
    "# sort by date just in case\n",
    "alerts_df.sort_values(by=['publish_date_dt'], inplace = True)"
   ]
  },
  {
   "cell_type": "code",
   "execution_count": 39,
   "metadata": {},
   "outputs": [],
   "source": [
    "# set date as index, not sure if good idea\n",
    "#alerts_df = alerts_df.set_index('publish_date_dt').sort_index()"
   ]
  },
  {
   "cell_type": "code",
   "execution_count": 40,
   "metadata": {},
   "outputs": [
    {
     "data": {
      "text/html": [
       "<div>\n",
       "<style scoped>\n",
       "    .dataframe tbody tr th:only-of-type {\n",
       "        vertical-align: middle;\n",
       "    }\n",
       "\n",
       "    .dataframe tbody tr th {\n",
       "        vertical-align: top;\n",
       "    }\n",
       "\n",
       "    .dataframe thead th {\n",
       "        text-align: right;\n",
       "    }\n",
       "</style>\n",
       "<table border=\"1\" class=\"dataframe\">\n",
       "  <thead>\n",
       "    <tr style=\"text-align: right;\">\n",
       "      <th></th>\n",
       "      <th>alert_type_id</th>\n",
       "      <th>alert_subtype_id</th>\n",
       "      <th>street</th>\n",
       "      <th>publish_date_dt</th>\n",
       "    </tr>\n",
       "  </thead>\n",
       "  <tbody>\n",
       "    <tr>\n",
       "      <th>115496</th>\n",
       "      <td>4</td>\n",
       "      <td>7.0</td>\n",
       "      <td>Alberto Llona</td>\n",
       "      <td>2016-08-06 17:55:23+00:00</td>\n",
       "    </tr>\n",
       "    <tr>\n",
       "      <th>115542</th>\n",
       "      <td>4</td>\n",
       "      <td>7.0</td>\n",
       "      <td>Manuel Antonio Matta</td>\n",
       "      <td>2017-01-14 15:01:37+00:00</td>\n",
       "    </tr>\n",
       "    <tr>\n",
       "      <th>115497</th>\n",
       "      <td>4</td>\n",
       "      <td>7.0</td>\n",
       "      <td>Manuel Antonio Matta</td>\n",
       "      <td>2017-01-14 16:01:37+00:00</td>\n",
       "    </tr>\n",
       "  </tbody>\n",
       "</table>\n",
       "</div>"
      ],
      "text/plain": [
       "        alert_type_id  alert_subtype_id                street  \\\n",
       "115496              4               7.0         Alberto Llona   \n",
       "115542              4               7.0  Manuel Antonio Matta   \n",
       "115497              4               7.0  Manuel Antonio Matta   \n",
       "\n",
       "                 publish_date_dt  \n",
       "115496 2016-08-06 17:55:23+00:00  \n",
       "115542 2017-01-14 15:01:37+00:00  \n",
       "115497 2017-01-14 16:01:37+00:00  "
      ]
     },
     "execution_count": 40,
     "metadata": {},
     "output_type": "execute_result"
    }
   ],
   "source": [
    "alerts_df.head(3)"
   ]
  },
  {
   "cell_type": "code",
   "execution_count": 41,
   "metadata": {},
   "outputs": [
    {
     "data": {
      "text/plain": [
       "(106885, 4)"
      ]
     },
     "execution_count": 41,
     "metadata": {},
     "output_type": "execute_result"
    }
   ],
   "source": [
    "alerts_df.shape"
   ]
  },
  {
   "cell_type": "code",
   "execution_count": 42,
   "metadata": {},
   "outputs": [
    {
     "data": {
      "text/plain": [
       "<matplotlib.axes._subplots.AxesSubplot at 0x7f6c0191ecc0>"
      ]
     },
     "execution_count": 42,
     "metadata": {},
     "output_type": "execute_result"
    }
   ],
   "source": [
    "alerts_df['alert_type_id'].value_counts().plot(kind='barh')"
   ]
  },
  {
   "cell_type": "code",
   "execution_count": 43,
   "metadata": {},
   "outputs": [
    {
     "data": {
      "text/plain": [
       "<matplotlib.axes._subplots.AxesSubplot at 0x7f6cbbb5a940>"
      ]
     },
     "execution_count": 43,
     "metadata": {},
     "output_type": "execute_result"
    },
    {
     "data": {
      "image/png": "[encoded data removed]",
      "text/plain": [
       "<Figure size 432x288 with 1 Axes>"
      ]
     },
     "metadata": {
      "needs_background": "light"
     },
     "output_type": "display_data"
    }
   ],
   "source": [
    "alerts_df['alert_subtype_id'][alerts_df['alert_type_id'] == 4].value_counts().plot(kind='barh')"
   ]
  },
  {
   "cell_type": "code",
   "execution_count": 44,
   "metadata": {},
   "outputs": [
    {
     "name": "stdout",
     "output_type": "stream",
     "text": [
      "[ 1.  2.  3.  4.  5.  7.  8.  9. 10. 11. 12. 13. 14. 15. 16. 17. 20. 28.\n",
      " 29. 30. 31. 32. 33. 34.]\n"
     ]
    }
   ],
   "source": [
    "print(np.sort(alerts_df['alert_subtype_id'].unique()))"
   ]
  },
  {
   "cell_type": "code",
   "execution_count": 45,
   "metadata": {},
   "outputs": [
    {
     "name": "stdout",
     "output_type": "stream",
     "text": [
      "[1. 2.]\n"
     ]
    }
   ],
   "source": [
    "print(np.sort(alerts_df['alert_subtype_id'][alerts_df['alert_type_id'] == 2].unique()))"
   ]
  },
  {
   "cell_type": "code",
   "execution_count": 46,
   "metadata": {},
   "outputs": [
    {
     "name": "stdout",
     "output_type": "stream",
     "text": [
      "[3. 4. 5.]\n"
     ]
    }
   ],
   "source": [
    "print(np.sort(alerts_df['alert_subtype_id'][alerts_df['alert_type_id'] == 3].unique()))"
   ]
  },
  {
   "cell_type": "code",
   "execution_count": 47,
   "metadata": {},
   "outputs": [
    {
     "name": "stdout",
     "output_type": "stream",
     "text": [
      "[ 7.  8.  9. 10. 11. 12. 13. 14. 15. 16. 17. 20. 28. 29. 30. 34.]\n"
     ]
    }
   ],
   "source": [
    "print(np.sort(alerts_df['alert_subtype_id'][alerts_df['alert_type_id'] == 4].unique()))"
   ]
  },
  {
   "cell_type": "code",
   "execution_count": 48,
   "metadata": {},
   "outputs": [
    {
     "name": "stdout",
     "output_type": "stream",
     "text": [
      "[31. 32. 33.]\n"
     ]
    }
   ],
   "source": [
    "print(np.sort(alerts_df['alert_subtype_id'][alerts_df['alert_type_id'] == 7].unique()))"
   ]
  },
  {
   "cell_type": "markdown",
   "metadata": {},
   "source": [
    "I have to assume that 'alert_type_id' is 3 (JAM) and 'alert_subtype_id' 4 is JAM_HEAVY_TRAFFIC and 5 is JAM_STAND_STILL_TRAFFIC"
   ]
  },
  {
   "cell_type": "code",
   "execution_count": 49,
   "metadata": {},
   "outputs": [
    {
     "data": {
      "text/plain": [
       "(3140,)"
      ]
     },
     "execution_count": 49,
     "metadata": {},
     "output_type": "execute_result"
    }
   ],
   "source": [
    "alerts_df['street'].unique().shape"
   ]
  },
  {
   "cell_type": "code",
   "execution_count": 50,
   "metadata": {},
   "outputs": [],
   "source": [
    "# res_df = alerts_df[:200].apply(lambda row: list(alerts_df['alert_subtype_id'][(alerts_df['street'] == row['street']) & \n",
    "#                                                                (alerts_df['publish_date_dt'] <= row['publish_date_dt']) & \n",
    "#                                                                (alerts_df['publish_date_dt'] >= row['publish_date_dt'] - pd.Timedelta(minutes=30))])\n",
    "#                , axis = 1)"
   ]
  },
  {
   "cell_type": "code",
   "execution_count": 51,
   "metadata": {},
   "outputs": [],
   "source": [
    "import dask.dataframe as dd\n",
    "from dask.multiprocessing import get\n",
    "from dask.distributed import Client, LocalCluster\n",
    "cluster = LocalCluster(n_workers=4, threads_per_worker=2)\n",
    "client = Client(cluster, asynchronous=True,\n",
    "                memory_limit='8GB')\n",
    "\n",
    "ddata = dd.from_pandas(alerts_df, npartitions=36)\n",
    "\n",
    "alerts_df['seq'] = ddata.map_partitions(lambda df: df.apply((lambda row: list(alerts_df['alert_subtype_id'][(alerts_df['street'] == row['street']) & \n",
    "                                                               (alerts_df['publish_date_dt'] < row['publish_date_dt']) & \n",
    "                                                               (alerts_df['publish_date_dt'] >= row['publish_date_dt'] - pd.Timedelta('00:30:00'))]))\n",
    "                                                , axis=1)).compute(scheduler=client)"
   ]
  },
  {
   "cell_type": "code",
   "execution_count": 52,
   "metadata": {},
   "outputs": [],
   "source": [
    "del ddata"
   ]
  },
  {
   "cell_type": "code",
   "execution_count": 53,
   "metadata": {},
   "outputs": [
    {
     "data": {
      "text/html": [
       "<div>\n",
       "<style scoped>\n",
       "    .dataframe tbody tr th:only-of-type {\n",
       "        vertical-align: middle;\n",
       "    }\n",
       "\n",
       "    .dataframe tbody tr th {\n",
       "        vertical-align: top;\n",
       "    }\n",
       "\n",
       "    .dataframe thead th {\n",
       "        text-align: right;\n",
       "    }\n",
       "</style>\n",
       "<table border=\"1\" class=\"dataframe\">\n",
       "  <thead>\n",
       "    <tr style=\"text-align: right;\">\n",
       "      <th></th>\n",
       "      <th>alert_type_id</th>\n",
       "      <th>alert_subtype_id</th>\n",
       "      <th>street</th>\n",
       "      <th>publish_date_dt</th>\n",
       "      <th>seq</th>\n",
       "    </tr>\n",
       "  </thead>\n",
       "  <tbody>\n",
       "    <tr>\n",
       "      <th>115496</th>\n",
       "      <td>4</td>\n",
       "      <td>7.0</td>\n",
       "      <td>Alberto Llona</td>\n",
       "      <td>2016-08-06 17:55:23+00:00</td>\n",
       "      <td>[]</td>\n",
       "    </tr>\n",
       "    <tr>\n",
       "      <th>115542</th>\n",
       "      <td>4</td>\n",
       "      <td>7.0</td>\n",
       "      <td>Manuel Antonio Matta</td>\n",
       "      <td>2017-01-14 15:01:37+00:00</td>\n",
       "      <td>[]</td>\n",
       "    </tr>\n",
       "    <tr>\n",
       "      <th>115497</th>\n",
       "      <td>4</td>\n",
       "      <td>7.0</td>\n",
       "      <td>Manuel Antonio Matta</td>\n",
       "      <td>2017-01-14 16:01:37+00:00</td>\n",
       "      <td>[]</td>\n",
       "    </tr>\n",
       "    <tr>\n",
       "      <th>115543</th>\n",
       "      <td>4</td>\n",
       "      <td>7.0</td>\n",
       "      <td>Av. Independencia</td>\n",
       "      <td>2017-02-14 12:40:23+00:00</td>\n",
       "      <td>[]</td>\n",
       "    </tr>\n",
       "    <tr>\n",
       "      <th>115498</th>\n",
       "      <td>4</td>\n",
       "      <td>7.0</td>\n",
       "      <td>Av. Independencia</td>\n",
       "      <td>2017-02-14 13:40:23+00:00</td>\n",
       "      <td>[]</td>\n",
       "    </tr>\n",
       "  </tbody>\n",
       "</table>\n",
       "</div>"
      ],
      "text/plain": [
       "        alert_type_id  alert_subtype_id                street  \\\n",
       "115496              4               7.0         Alberto Llona   \n",
       "115542              4               7.0  Manuel Antonio Matta   \n",
       "115497              4               7.0  Manuel Antonio Matta   \n",
       "115543              4               7.0     Av. Independencia   \n",
       "115498              4               7.0     Av. Independencia   \n",
       "\n",
       "                 publish_date_dt seq  \n",
       "115496 2016-08-06 17:55:23+00:00  []  \n",
       "115542 2017-01-14 15:01:37+00:00  []  \n",
       "115497 2017-01-14 16:01:37+00:00  []  \n",
       "115543 2017-02-14 12:40:23+00:00  []  \n",
       "115498 2017-02-14 13:40:23+00:00  []  "
      ]
     },
     "execution_count": 53,
     "metadata": {},
     "output_type": "execute_result"
    }
   ],
   "source": [
    "alerts_df.head()"
   ]
  },
  {
   "cell_type": "code",
   "execution_count": 54,
   "metadata": {},
   "outputs": [],
   "source": [
    "alerts_df_w_seq = alerts_df[alerts_df.astype(str)['seq'] != '[]'].copy()"
   ]
  },
  {
   "cell_type": "code",
   "execution_count": 55,
   "metadata": {},
   "outputs": [
    {
     "data": {
      "text/html": [
       "<div>\n",
       "<style scoped>\n",
       "    .dataframe tbody tr th:only-of-type {\n",
       "        vertical-align: middle;\n",
       "    }\n",
       "\n",
       "    .dataframe tbody tr th {\n",
       "        vertical-align: top;\n",
       "    }\n",
       "\n",
       "    .dataframe thead th {\n",
       "        text-align: right;\n",
       "    }\n",
       "</style>\n",
       "<table border=\"1\" class=\"dataframe\">\n",
       "  <thead>\n",
       "    <tr style=\"text-align: right;\">\n",
       "      <th></th>\n",
       "      <th>alert_type_id</th>\n",
       "      <th>alert_subtype_id</th>\n",
       "      <th>street</th>\n",
       "      <th>publish_date_dt</th>\n",
       "      <th>seq</th>\n",
       "    </tr>\n",
       "  </thead>\n",
       "  <tbody>\n",
       "    <tr>\n",
       "      <th>115494</th>\n",
       "      <td>7</td>\n",
       "      <td>33.0</td>\n",
       "      <td>Av. O'Higgins</td>\n",
       "      <td>2018-02-22 18:55:16+00:00</td>\n",
       "      <td>[33.0]</td>\n",
       "    </tr>\n",
       "    <tr>\n",
       "      <th>115508</th>\n",
       "      <td>7</td>\n",
       "      <td>33.0</td>\n",
       "      <td>Av. O'Higgins</td>\n",
       "      <td>2018-02-22 18:55:17+00:00</td>\n",
       "      <td>[33.0, 33.0]</td>\n",
       "    </tr>\n",
       "    <tr>\n",
       "      <th>115495</th>\n",
       "      <td>7</td>\n",
       "      <td>33.0</td>\n",
       "      <td>Av. O'Higgins</td>\n",
       "      <td>2018-02-22 18:55:18+00:00</td>\n",
       "      <td>[33.0, 33.0, 33.0]</td>\n",
       "    </tr>\n",
       "    <tr>\n",
       "      <th>115478</th>\n",
       "      <td>7</td>\n",
       "      <td>33.0</td>\n",
       "      <td>Carlos Silva Vildósola</td>\n",
       "      <td>2018-03-05 15:37:45+00:00</td>\n",
       "      <td>[33.0]</td>\n",
       "    </tr>\n",
       "    <tr>\n",
       "      <th>27</th>\n",
       "      <td>4</td>\n",
       "      <td>7.0</td>\n",
       "      <td>Autopista Central</td>\n",
       "      <td>2018-04-01 02:54:35+00:00</td>\n",
       "      <td>[3.0]</td>\n",
       "    </tr>\n",
       "  </tbody>\n",
       "</table>\n",
       "</div>"
      ],
      "text/plain": [
       "        alert_type_id  alert_subtype_id                  street  \\\n",
       "115494              7              33.0           Av. O'Higgins   \n",
       "115508              7              33.0           Av. O'Higgins   \n",
       "115495              7              33.0           Av. O'Higgins   \n",
       "115478              7              33.0  Carlos Silva Vildósola   \n",
       "27                  4               7.0       Autopista Central   \n",
       "\n",
       "                 publish_date_dt                 seq  \n",
       "115494 2018-02-22 18:55:16+00:00              [33.0]  \n",
       "115508 2018-02-22 18:55:17+00:00        [33.0, 33.0]  \n",
       "115495 2018-02-22 18:55:18+00:00  [33.0, 33.0, 33.0]  \n",
       "115478 2018-03-05 15:37:45+00:00              [33.0]  \n",
       "27     2018-04-01 02:54:35+00:00               [3.0]  "
      ]
     },
     "execution_count": 55,
     "metadata": {},
     "output_type": "execute_result"
    }
   ],
   "source": [
    "alerts_df_w_seq.head()"
   ]
  },
  {
   "cell_type": "code",
   "execution_count": 56,
   "metadata": {},
   "outputs": [
    {
     "data": {
      "text/plain": [
       "(72528, 5)"
      ]
     },
     "execution_count": 56,
     "metadata": {},
     "output_type": "execute_result"
    }
   ],
   "source": [
    "alerts_df_w_seq.shape"
   ]
  },
  {
   "cell_type": "code",
   "execution_count": 57,
   "metadata": {},
   "outputs": [
    {
     "data": {
      "text/html": [
       "<div>\n",
       "<style scoped>\n",
       "    .dataframe tbody tr th:only-of-type {\n",
       "        vertical-align: middle;\n",
       "    }\n",
       "\n",
       "    .dataframe tbody tr th {\n",
       "        vertical-align: top;\n",
       "    }\n",
       "\n",
       "    .dataframe thead th {\n",
       "        text-align: right;\n",
       "    }\n",
       "</style>\n",
       "<table border=\"1\" class=\"dataframe\">\n",
       "  <thead>\n",
       "    <tr style=\"text-align: right;\">\n",
       "      <th></th>\n",
       "      <th>alert_type_id</th>\n",
       "      <th>alert_subtype_id</th>\n",
       "      <th>street</th>\n",
       "      <th>publish_date_dt</th>\n",
       "      <th>seq</th>\n",
       "    </tr>\n",
       "  </thead>\n",
       "  <tbody>\n",
       "    <tr>\n",
       "      <th>60</th>\n",
       "      <td>3</td>\n",
       "      <td>4.0</td>\n",
       "      <td>Antonia López de Bello</td>\n",
       "      <td>2018-04-01 04:07:34+00:00</td>\n",
       "      <td>[4.0]</td>\n",
       "    </tr>\n",
       "    <tr>\n",
       "      <th>78</th>\n",
       "      <td>3</td>\n",
       "      <td>5.0</td>\n",
       "      <td>Antonia López de Bello</td>\n",
       "      <td>2018-04-01 04:56:23+00:00</td>\n",
       "      <td>[4.0]</td>\n",
       "    </tr>\n",
       "    <tr>\n",
       "      <th>177</th>\n",
       "      <td>3</td>\n",
       "      <td>5.0</td>\n",
       "      <td>Boulevard Lyon Juana de Arco</td>\n",
       "      <td>2018-04-01 12:06:15+00:00</td>\n",
       "      <td>[30.0]</td>\n",
       "    </tr>\n",
       "    <tr>\n",
       "      <th>268</th>\n",
       "      <td>3</td>\n",
       "      <td>4.0</td>\n",
       "      <td>Ruta 78 / Autopista del Sol</td>\n",
       "      <td>2018-04-01 14:10:44+00:00</td>\n",
       "      <td>[13.0, 13.0, 13.0, 13.0]</td>\n",
       "    </tr>\n",
       "    <tr>\n",
       "      <th>278</th>\n",
       "      <td>3</td>\n",
       "      <td>4.0</td>\n",
       "      <td>Av. Camilo Henríquez</td>\n",
       "      <td>2018-04-01 14:23:36+00:00</td>\n",
       "      <td>[4.0]</td>\n",
       "    </tr>\n",
       "  </tbody>\n",
       "</table>\n",
       "</div>"
      ],
      "text/plain": [
       "     alert_type_id  alert_subtype_id                        street  \\\n",
       "60               3               4.0        Antonia López de Bello   \n",
       "78               3               5.0        Antonia López de Bello   \n",
       "177              3               5.0  Boulevard Lyon Juana de Arco   \n",
       "268              3               4.0   Ruta 78 / Autopista del Sol   \n",
       "278              3               4.0          Av. Camilo Henríquez   \n",
       "\n",
       "              publish_date_dt                       seq  \n",
       "60  2018-04-01 04:07:34+00:00                     [4.0]  \n",
       "78  2018-04-01 04:56:23+00:00                     [4.0]  \n",
       "177 2018-04-01 12:06:15+00:00                    [30.0]  \n",
       "268 2018-04-01 14:10:44+00:00  [13.0, 13.0, 13.0, 13.0]  \n",
       "278 2018-04-01 14:23:36+00:00                     [4.0]  "
      ]
     },
     "execution_count": 57,
     "metadata": {},
     "output_type": "execute_result"
    }
   ],
   "source": [
    "alerts_df[(alerts_df['alert_type_id'] == 3) &\n",
    "          ((alerts_df['alert_subtype_id'] == 4) | (alerts_df['alert_subtype_id'] == 5)) & \n",
    "          (alerts_df.astype(str)['seq'] != '[]')].head()"
   ]
  },
  {
   "cell_type": "code",
   "execution_count": 58,
   "metadata": {},
   "outputs": [
    {
     "data": {
      "text/plain": [
       "(50779, 5)"
      ]
     },
     "execution_count": 58,
     "metadata": {},
     "output_type": "execute_result"
    }
   ],
   "source": [
    "alerts_df[(alerts_df['alert_type_id'] == 3) &\n",
    "          ((alerts_df['alert_subtype_id'] == 4) | (alerts_df['alert_subtype_id'] == 5)) & \n",
    "          (alerts_df.astype(str)['seq'] != '[]')].shape"
   ]
  },
  {
   "cell_type": "code",
   "execution_count": 59,
   "metadata": {},
   "outputs": [],
   "source": [
    "alerts_df_w_seq['label'] = np.where((alerts_df_w_seq['alert_type_id'] == 3) &\n",
    "                                    ((alerts_df_w_seq['alert_subtype_id'] == 4) | (alerts_df_w_seq['alert_subtype_id'] == 5)) &\n",
    "                                    (alerts_df_w_seq.astype(str)['seq'] != '[]'), 1, 0)"
   ]
  },
  {
   "cell_type": "code",
   "execution_count": 60,
   "metadata": {},
   "outputs": [
    {
     "data": {
      "text/html": [
       "<div>\n",
       "<style scoped>\n",
       "    .dataframe tbody tr th:only-of-type {\n",
       "        vertical-align: middle;\n",
       "    }\n",
       "\n",
       "    .dataframe tbody tr th {\n",
       "        vertical-align: top;\n",
       "    }\n",
       "\n",
       "    .dataframe thead th {\n",
       "        text-align: right;\n",
       "    }\n",
       "</style>\n",
       "<table border=\"1\" class=\"dataframe\">\n",
       "  <thead>\n",
       "    <tr style=\"text-align: right;\">\n",
       "      <th></th>\n",
       "      <th>alert_type_id</th>\n",
       "      <th>alert_subtype_id</th>\n",
       "      <th>street</th>\n",
       "      <th>publish_date_dt</th>\n",
       "      <th>seq</th>\n",
       "      <th>label</th>\n",
       "    </tr>\n",
       "  </thead>\n",
       "  <tbody>\n",
       "    <tr>\n",
       "      <th>115494</th>\n",
       "      <td>7</td>\n",
       "      <td>33.0</td>\n",
       "      <td>Av. O'Higgins</td>\n",
       "      <td>2018-02-22 18:55:16+00:00</td>\n",
       "      <td>[33.0]</td>\n",
       "      <td>0</td>\n",
       "    </tr>\n",
       "    <tr>\n",
       "      <th>115508</th>\n",
       "      <td>7</td>\n",
       "      <td>33.0</td>\n",
       "      <td>Av. O'Higgins</td>\n",
       "      <td>2018-02-22 18:55:17+00:00</td>\n",
       "      <td>[33.0, 33.0]</td>\n",
       "      <td>0</td>\n",
       "    </tr>\n",
       "    <tr>\n",
       "      <th>115495</th>\n",
       "      <td>7</td>\n",
       "      <td>33.0</td>\n",
       "      <td>Av. O'Higgins</td>\n",
       "      <td>2018-02-22 18:55:18+00:00</td>\n",
       "      <td>[33.0, 33.0, 33.0]</td>\n",
       "      <td>0</td>\n",
       "    </tr>\n",
       "  </tbody>\n",
       "</table>\n",
       "</div>"
      ],
      "text/plain": [
       "        alert_type_id  alert_subtype_id         street  \\\n",
       "115494              7              33.0  Av. O'Higgins   \n",
       "115508              7              33.0  Av. O'Higgins   \n",
       "115495              7              33.0  Av. O'Higgins   \n",
       "\n",
       "                 publish_date_dt                 seq  label  \n",
       "115494 2018-02-22 18:55:16+00:00              [33.0]      0  \n",
       "115508 2018-02-22 18:55:17+00:00        [33.0, 33.0]      0  \n",
       "115495 2018-02-22 18:55:18+00:00  [33.0, 33.0, 33.0]      0  "
      ]
     },
     "execution_count": 60,
     "metadata": {},
     "output_type": "execute_result"
    }
   ],
   "source": [
    "alerts_df_w_seq[alerts_df_w_seq['label'] == 0].head(3)"
   ]
  },
  {
   "cell_type": "code",
   "execution_count": 61,
   "metadata": {},
   "outputs": [
    {
     "data": {
      "text/plain": [
       "(21749, 6)"
      ]
     },
     "execution_count": 61,
     "metadata": {},
     "output_type": "execute_result"
    }
   ],
   "source": [
    "alerts_df_w_seq[alerts_df_w_seq['label'] == 0].shape"
   ]
  },
  {
   "cell_type": "code",
   "execution_count": 62,
   "metadata": {},
   "outputs": [
    {
     "data": {
      "text/html": [
       "<div>\n",
       "<style scoped>\n",
       "    .dataframe tbody tr th:only-of-type {\n",
       "        vertical-align: middle;\n",
       "    }\n",
       "\n",
       "    .dataframe tbody tr th {\n",
       "        vertical-align: top;\n",
       "    }\n",
       "\n",
       "    .dataframe thead th {\n",
       "        text-align: right;\n",
       "    }\n",
       "</style>\n",
       "<table border=\"1\" class=\"dataframe\">\n",
       "  <thead>\n",
       "    <tr style=\"text-align: right;\">\n",
       "      <th></th>\n",
       "      <th>alert_type_id</th>\n",
       "      <th>alert_subtype_id</th>\n",
       "      <th>street</th>\n",
       "      <th>publish_date_dt</th>\n",
       "      <th>seq</th>\n",
       "      <th>label</th>\n",
       "    </tr>\n",
       "  </thead>\n",
       "  <tbody>\n",
       "    <tr>\n",
       "      <th>60</th>\n",
       "      <td>3</td>\n",
       "      <td>4.0</td>\n",
       "      <td>Antonia López de Bello</td>\n",
       "      <td>2018-04-01 04:07:34+00:00</td>\n",
       "      <td>[4.0]</td>\n",
       "      <td>1</td>\n",
       "    </tr>\n",
       "    <tr>\n",
       "      <th>78</th>\n",
       "      <td>3</td>\n",
       "      <td>5.0</td>\n",
       "      <td>Antonia López de Bello</td>\n",
       "      <td>2018-04-01 04:56:23+00:00</td>\n",
       "      <td>[4.0]</td>\n",
       "      <td>1</td>\n",
       "    </tr>\n",
       "    <tr>\n",
       "      <th>177</th>\n",
       "      <td>3</td>\n",
       "      <td>5.0</td>\n",
       "      <td>Boulevard Lyon Juana de Arco</td>\n",
       "      <td>2018-04-01 12:06:15+00:00</td>\n",
       "      <td>[30.0]</td>\n",
       "      <td>1</td>\n",
       "    </tr>\n",
       "  </tbody>\n",
       "</table>\n",
       "</div>"
      ],
      "text/plain": [
       "     alert_type_id  alert_subtype_id                        street  \\\n",
       "60               3               4.0        Antonia López de Bello   \n",
       "78               3               5.0        Antonia López de Bello   \n",
       "177              3               5.0  Boulevard Lyon Juana de Arco   \n",
       "\n",
       "              publish_date_dt     seq  label  \n",
       "60  2018-04-01 04:07:34+00:00   [4.0]      1  \n",
       "78  2018-04-01 04:56:23+00:00   [4.0]      1  \n",
       "177 2018-04-01 12:06:15+00:00  [30.0]      1  "
      ]
     },
     "execution_count": 62,
     "metadata": {},
     "output_type": "execute_result"
    }
   ],
   "source": [
    "alerts_df_w_seq[alerts_df_w_seq['label'] == 1].head(3)"
   ]
  },
  {
   "cell_type": "code",
   "execution_count": 63,
   "metadata": {},
   "outputs": [
    {
     "data": {
      "text/plain": [
       "(50779, 6)"
      ]
     },
     "execution_count": 63,
     "metadata": {},
     "output_type": "execute_result"
    }
   ],
   "source": [
    "alerts_df_w_seq[alerts_df_w_seq['label'] == 1].shape"
   ]
  },
  {
   "cell_type": "code",
   "execution_count": 64,
   "metadata": {},
   "outputs": [
    {
     "data": {
      "text/plain": [
       "91217"
      ]
     },
     "execution_count": 64,
     "metadata": {},
     "output_type": "execute_result"
    }
   ],
   "source": [
    "max_len_event_id = alerts_df_w_seq.seq.apply(len).idxmax()\n",
    "max_len_event_id"
   ]
  },
  {
   "cell_type": "code",
   "execution_count": 65,
   "metadata": {},
   "outputs": [
    {
     "name": "stdout",
     "output_type": "stream",
     "text": [
      "[1.0, 4.0, 4.0, 4.0, 4.0, 5.0, 4.0, 4.0, 5.0, 4.0, 4.0, 5.0, 5.0, 30.0, 1.0, 30.0, 3.0, 3.0, 5.0, 30.0, 5.0, 4.0, 5.0, 4.0, 3.0, 5.0, 5.0, 3.0, 4.0, 4.0, 4.0, 5.0, 5.0, 5.0, 5.0, 4.0, 30.0, 5.0, 5.0, 5.0, 4.0, 4.0, 4.0, 5.0, 3.0, 4.0, 5.0, 5.0, 5.0, 5.0, 5.0, 4.0, 4.0, 5.0, 4.0, 4.0, 4.0, 4.0, 4.0, 4.0, 4.0, 4.0, 5.0, 4.0, 4.0, 4.0, 3.0, 5.0, 4.0, 4.0, 4.0, 4.0, 4.0, 4.0, 4.0, 5.0, 5.0, 13.0, 4.0, 5.0, 4.0, 5.0, 5.0, 13.0, 5.0, 4.0, 4.0, 4.0, 4.0, 4.0]\n"
     ]
    }
   ],
   "source": [
    "max_len_event = alerts_df_w_seq.loc[max_len_event_id]\n",
    "print(max_len_event.seq)"
   ]
  },
  {
   "cell_type": "code",
   "execution_count": 66,
   "metadata": {},
   "outputs": [
    {
     "data": {
      "text/plain": [
       "90"
      ]
     },
     "execution_count": 66,
     "metadata": {},
     "output_type": "execute_result"
    }
   ],
   "source": [
    "maxlen = len(max_len_event.seq)\n",
    "maxlen"
   ]
  },
  {
   "cell_type": "code",
   "execution_count": 69,
   "metadata": {},
   "outputs": [
    {
     "name": "stderr",
     "output_type": "stream",
     "text": [
      "Using TensorFlow backend.\n",
      "/opt/conda/lib/python3.7/site-packages/tensorflow/python/framework/dtypes.py:526: FutureWarning: Passing (type, 1) or '1type' as a synonym of type is deprecated; in a future version of numpy, it will be understood as (type, (1,)) / '(1,)type'.\n",
      "  _np_qint8 = np.dtype([(\"qint8\", np.int8, 1)])\n",
      "/opt/conda/lib/python3.7/site-packages/tensorflow/python/framework/dtypes.py:527: FutureWarning: Passing (type, 1) or '1type' as a synonym of type is deprecated; in a future version of numpy, it will be understood as (type, (1,)) / '(1,)type'.\n",
      "  _np_quint8 = np.dtype([(\"quint8\", np.uint8, 1)])\n",
      "/opt/conda/lib/python3.7/site-packages/tensorflow/python/framework/dtypes.py:528: FutureWarning: Passing (type, 1) or '1type' as a synonym of type is deprecated; in a future version of numpy, it will be understood as (type, (1,)) / '(1,)type'.\n",
      "  _np_qint16 = np.dtype([(\"qint16\", np.int16, 1)])\n",
      "/opt/conda/lib/python3.7/site-packages/tensorflow/python/framework/dtypes.py:529: FutureWarning: Passing (type, 1) or '1type' as a synonym of type is deprecated; in a future version of numpy, it will be understood as (type, (1,)) / '(1,)type'.\n",
      "  _np_quint16 = np.dtype([(\"quint16\", np.uint16, 1)])\n",
      "/opt/conda/lib/python3.7/site-packages/tensorflow/python/framework/dtypes.py:530: FutureWarning: Passing (type, 1) or '1type' as a synonym of type is deprecated; in a future version of numpy, it will be understood as (type, (1,)) / '(1,)type'.\n",
      "  _np_qint32 = np.dtype([(\"qint32\", np.int32, 1)])\n",
      "/opt/conda/lib/python3.7/site-packages/tensorflow/python/framework/dtypes.py:535: FutureWarning: Passing (type, 1) or '1type' as a synonym of type is deprecated; in a future version of numpy, it will be understood as (type, (1,)) / '(1,)type'.\n",
      "  np_resource = np.dtype([(\"resource\", np.ubyte, 1)])\n"
     ]
    }
   ],
   "source": [
    "#from keras.utils import to_categorical\n",
    "from keras.preprocessing.sequence import pad_sequences"
   ]
  },
  {
   "cell_type": "code",
   "execution_count": 70,
   "metadata": {},
   "outputs": [
    {
     "data": {
      "text/plain": [
       "[[33.0], [33.0, 33.0], [33.0, 33.0, 33.0], [33.0], [3.0]]"
      ]
     },
     "execution_count": 70,
     "metadata": {},
     "output_type": "execute_result"
    }
   ],
   "source": [
    "sequences = alerts_df_w_seq.seq.tolist()\n",
    "sequences[:5]"
   ]
  },
  {
   "cell_type": "code",
   "execution_count": 71,
   "metadata": {},
   "outputs": [
    {
     "data": {
      "text/plain": [
       "array([[ 0,  0,  0, ...,  0,  0, 33],\n",
       "       [ 0,  0,  0, ...,  0, 33, 33],\n",
       "       [ 0,  0,  0, ..., 33, 33, 33],\n",
       "       ...,\n",
       "       [ 0,  0,  0, ...,  0,  0, 29],\n",
       "       [ 0,  0,  0, ...,  0, 29, 29],\n",
       "       [ 0,  0,  0, ..., 29, 29, 10]], dtype=int32)"
      ]
     },
     "execution_count": 71,
     "metadata": {},
     "output_type": "execute_result"
    }
   ],
   "source": [
    "data = pad_sequences(sequences, maxlen=maxlen)\n",
    "data"
   ]
  },
  {
   "cell_type": "code",
   "execution_count": 72,
   "metadata": {},
   "outputs": [],
   "source": [
    "labels = np.array(alerts_df_w_seq.label)"
   ]
  },
  {
   "cell_type": "code",
   "execution_count": 73,
   "metadata": {},
   "outputs": [],
   "source": [
    "np.random.seed(12)"
   ]
  },
  {
   "cell_type": "code",
   "execution_count": 74,
   "metadata": {},
   "outputs": [],
   "source": [
    "indices = np.arange(data.shape[0])\n",
    "np.random.shuffle(indices)\n",
    "data = data[indices]\n",
    "labels = labels[indices]"
   ]
  },
  {
   "cell_type": "code",
   "execution_count": 75,
   "metadata": {},
   "outputs": [],
   "source": [
    "training_samples = int(len(indices) * .5)\n",
    "validation_samples = len(indices) - training_samples"
   ]
  },
  {
   "cell_type": "code",
   "execution_count": 76,
   "metadata": {},
   "outputs": [],
   "source": [
    "X_train = data[:training_samples]\n",
    "y_train = labels[:training_samples]\n",
    "X_valid = data[training_samples: training_samples + validation_samples]\n",
    "y_valid = labels[training_samples: training_samples + validation_samples]"
   ]
  },
  {
   "cell_type": "code",
   "execution_count": 77,
   "metadata": {},
   "outputs": [
    {
     "data": {
      "text/plain": [
       "array([[ 0,  0,  0, ..., 30,  1,  3],\n",
       "       [ 0,  0,  0, ...,  0,  0,  4],\n",
       "       [ 0,  0,  0, ...,  4,  5,  4],\n",
       "       ...,\n",
       "       [ 0,  0,  0, ...,  0,  4, 29],\n",
       "       [ 0,  0,  0, ...,  3, 30,  5],\n",
       "       [ 0,  0,  0, ...,  4,  5,  4]], dtype=int32)"
      ]
     },
     "execution_count": 77,
     "metadata": {},
     "output_type": "execute_result"
    }
   ],
   "source": [
    "X_train"
   ]
  },
  {
   "cell_type": "code",
   "execution_count": 78,
   "metadata": {},
   "outputs": [
    {
     "data": {
      "text/plain": [
       "35"
      ]
     },
     "execution_count": 78,
     "metadata": {},
     "output_type": "execute_result"
    }
   ],
   "source": [
    "num_events = 34 + 1\n",
    "num_events"
   ]
  },
  {
   "cell_type": "code",
   "execution_count": 79,
   "metadata": {},
   "outputs": [],
   "source": [
    "embedding_dim = 20"
   ]
  },
  {
   "cell_type": "code",
   "execution_count": 80,
   "metadata": {},
   "outputs": [],
   "source": [
    "embedding_matrix = np.random.rand(num_events, embedding_dim)"
   ]
  },
  {
   "cell_type": "markdown",
   "metadata": {},
   "source": [
    "To check for gpu run the folowing in terminal:\n",
    "\n",
    "python\n",
    "\n",
    "import tensorflow as tf\n",
    "\n",
    "sess = tf.Session(config=tf.ConfigProto(log_device_placement=True))"
   ]
  },
  {
   "cell_type": "markdown",
   "metadata": {},
   "source": [
    "import tensorflow as tf\n",
    "session = tf.Session()"
   ]
  },
  {
   "cell_type": "code",
   "execution_count": 81,
   "metadata": {},
   "outputs": [
    {
     "name": "stdout",
     "output_type": "stream",
     "text": [
      "WARNING:tensorflow:From /opt/conda/lib/python3.7/site-packages/tensorflow/python/framework/op_def_library.py:263: colocate_with (from tensorflow.python.framework.ops) is deprecated and will be removed in a future version.\n",
      "Instructions for updating:\n",
      "Colocations handled automatically by placer.\n"
     ]
    }
   ],
   "source": [
    "from keras.models import Sequential\n",
    "from keras.layers import Embedding, Flatten, Dense, LSTM\n",
    "\n",
    "units = 32 # more implies more complexity, unrelated with\n",
    "\n",
    "model = Sequential()\n",
    "model.add(Embedding(num_events, embedding_dim))\n",
    "model.add(LSTM(units))\n",
    "model.add(Dense(1, activation='sigmoid'))"
   ]
  },
  {
   "cell_type": "code",
   "execution_count": 82,
   "metadata": {},
   "outputs": [],
   "source": [
    "model.layers[0].set_weights([embedding_matrix])\n",
    "model.layers[0].trainable = False"
   ]
  },
  {
   "cell_type": "code",
   "execution_count": 83,
   "metadata": {},
   "outputs": [
    {
     "name": "stdout",
     "output_type": "stream",
     "text": [
      "_________________________________________________________________\n",
      "Layer (type)                 Output Shape              Param #   \n",
      "=================================================================\n",
      "embedding_1 (Embedding)      (None, None, 20)          700       \n",
      "_________________________________________________________________\n",
      "lstm_1 (LSTM)                (None, 32)                6784      \n",
      "_________________________________________________________________\n",
      "dense_1 (Dense)              (None, 1)                 33        \n",
      "=================================================================\n",
      "Total params: 7,517\n",
      "Trainable params: 6,817\n",
      "Non-trainable params: 700\n",
      "_________________________________________________________________\n"
     ]
    }
   ],
   "source": [
    "model.summary()"
   ]
  },
  {
   "cell_type": "code",
   "execution_count": 84,
   "metadata": {},
   "outputs": [
    {
     "name": "stdout",
     "output_type": "stream",
     "text": [
      "WARNING:tensorflow:From /opt/conda/lib/python3.7/site-packages/tensorflow/python/ops/math_ops.py:3066: to_int32 (from tensorflow.python.ops.math_ops) is deprecated and will be removed in a future version.\n",
      "Instructions for updating:\n",
      "Use tf.cast instead.\n",
      "Train on 36264 samples, validate on 36264 samples\n",
      "Epoch 1/5\n",
      "36264/36264 [==============================] - 88s 2ms/step - loss: 0.5670 - acc: 0.7218 - val_loss: 0.5592 - val_acc: 0.7336\n",
      "Epoch 2/5\n",
      "36264/36264 [==============================] - 89s 2ms/step - loss: 0.5521 - acc: 0.7352 - val_loss: 0.5647 - val_acc: 0.7290\n",
      "Epoch 3/5\n",
      "36264/36264 [==============================] - 89s 2ms/step - loss: 0.5489 - acc: 0.7378 - val_loss: 0.5520 - val_acc: 0.7397\n",
      "Epoch 4/5\n",
      "36264/36264 [==============================] - 89s 2ms/step - loss: 0.5481 - acc: 0.7387 - val_loss: 0.5547 - val_acc: 0.7360\n",
      "Epoch 5/5\n",
      "36264/36264 [==============================] - 90s 2ms/step - loss: 0.5469 - acc: 0.7410 - val_loss: 0.5496 - val_acc: 0.7394\n"
     ]
    }
   ],
   "source": [
    "model.compile(optimizer='rmsprop',\n",
    "              loss='binary_crossentropy',\n",
    "              metrics=['acc'])\n",
    "history = model.fit(X_train, y_train,\n",
    "                    epochs=5,\n",
    "                    batch_size=32,\n",
    "                    validation_data=(X_valid, y_valid))\n",
    "model.save(\"mymodel_embedding_untrainable.h5\")"
   ]
  },
  {
   "cell_type": "code",
   "execution_count": 85,
   "metadata": {},
   "outputs": [
    {
     "data": {
      "image/png": "[encoded data removed]",
      "text/plain": [
       "<Figure size 432x288 with 1 Axes>"
      ]
     },
     "metadata": {
      "needs_background": "light"
     },
     "output_type": "display_data"
    },
    {
     "data": {
      "image/png": "[encoded data removed]",
      "text/plain": [
       "<Figure size 432x288 with 1 Axes>"
      ]
     },
     "metadata": {
      "needs_background": "light"
     },
     "output_type": "display_data"
    }
   ],
   "source": [
    "import matplotlib.pyplot as plt\n",
    "\n",
    "acc = history.history['acc']\n",
    "val_acc = history.history['val_acc']\n",
    "loss = history.history['loss']\n",
    "val_loss = history.history['val_loss']\n",
    "\n",
    "epochs = range(1, len(acc) + 1)\n",
    "\n",
    "plt.plot(epochs, acc, 'bo', label='Training acc')\n",
    "plt.plot(epochs, val_acc, 'b', label='Validation acc')\n",
    "plt.title('Training and validation accuracy')\n",
    "plt.legend()\n",
    "\n",
    "plt.figure()\n",
    "\n",
    "plt.plot(epochs, loss, 'bo', label='Training loss')\n",
    "plt.plot(epochs, val_loss, 'b', label='Validation loss')\n",
    "plt.title('Training and validation loss')\n",
    "plt.legend()\n",
    "\n",
    "plt.show()"
   ]
  },
  {
   "cell_type": "markdown",
   "metadata": {},
   "source": [
    "So next step, we can do an experiment to allow the Embedding layer be trained and adjusted."
   ]
  },
  {
   "cell_type": "code",
   "execution_count": 86,
   "metadata": {},
   "outputs": [],
   "source": [
    "from keras.models import Sequential\n",
    "from keras.layers import Embedding, Flatten, Dense, LSTM\n",
    "\n",
    "units = 32\n",
    "\n",
    "model = Sequential()\n",
    "model.add(Embedding(num_events, embedding_dim))\n",
    "model.add(LSTM(units))\n",
    "model.add(Dense(1, activation='sigmoid'))"
   ]
  },
  {
   "cell_type": "code",
   "execution_count": 87,
   "metadata": {},
   "outputs": [],
   "source": [
    "model.layers[0].set_weights([embedding_matrix])\n",
    "model.layers[0].trainable = True"
   ]
  },
  {
   "cell_type": "code",
   "execution_count": 88,
   "metadata": {},
   "outputs": [
    {
     "name": "stdout",
     "output_type": "stream",
     "text": [
      "Train on 36264 samples, validate on 36264 samples\n",
      "Epoch 1/20\n",
      "36264/36264 [==============================] - 103s 3ms/step - loss: 0.5601 - acc: 0.7288 - val_loss: 0.5590 - val_acc: 0.7293\n",
      "Epoch 2/20\n",
      "36264/36264 [==============================] - 103s 3ms/step - loss: 0.5476 - acc: 0.7400 - val_loss: 0.5504 - val_acc: 0.7378\n",
      "Epoch 3/20\n",
      "36264/36264 [==============================] - 102s 3ms/step - loss: 0.5459 - acc: 0.7417 - val_loss: 0.5492 - val_acc: 0.7394\n",
      "Epoch 4/20\n",
      "36264/36264 [==============================] - 103s 3ms/step - loss: 0.5449 - acc: 0.7420 - val_loss: 0.5505 - val_acc: 0.7386\n",
      "Epoch 5/20\n",
      "36264/36264 [==============================] - 104s 3ms/step - loss: 0.5444 - acc: 0.7409 - val_loss: 0.5484 - val_acc: 0.7395\n",
      "Epoch 6/20\n",
      "36264/36264 [==============================] - 103s 3ms/step - loss: 0.5438 - acc: 0.7419 - val_loss: 0.5503 - val_acc: 0.7383\n",
      "Epoch 7/20\n",
      "36264/36264 [==============================] - 102s 3ms/step - loss: 0.5437 - acc: 0.7421 - val_loss: 0.5521 - val_acc: 0.7388\n",
      "Epoch 8/20\n",
      "36264/36264 [==============================] - 102s 3ms/step - loss: 0.5432 - acc: 0.7430 - val_loss: 0.5499 - val_acc: 0.7388\n",
      "Epoch 9/20\n",
      "36264/36264 [==============================] - 103s 3ms/step - loss: 0.5427 - acc: 0.7432 - val_loss: 0.5500 - val_acc: 0.7394\n",
      "Epoch 10/20\n",
      "36264/36264 [==============================] - 102s 3ms/step - loss: 0.5426 - acc: 0.7430 - val_loss: 0.5485 - val_acc: 0.7394\n",
      "Epoch 11/20\n",
      "36264/36264 [==============================] - 102s 3ms/step - loss: 0.5423 - acc: 0.7433 - val_loss: 0.5513 - val_acc: 0.7376\n",
      "Epoch 12/20\n",
      "36264/36264 [==============================] - 102s 3ms/step - loss: 0.5421 - acc: 0.7435 - val_loss: 0.5495 - val_acc: 0.7395\n",
      "Epoch 13/20\n",
      "36264/36264 [==============================] - 102s 3ms/step - loss: 0.5418 - acc: 0.7430 - val_loss: 0.5489 - val_acc: 0.7389\n",
      "Epoch 14/20\n",
      "36264/36264 [==============================] - 102s 3ms/step - loss: 0.5419 - acc: 0.7440 - val_loss: 0.5486 - val_acc: 0.7397\n",
      "Epoch 15/20\n",
      "36264/36264 [==============================] - 102s 3ms/step - loss: 0.5415 - acc: 0.7434 - val_loss: 0.5491 - val_acc: 0.7387\n",
      "Epoch 16/20\n",
      "36264/36264 [==============================] - 102s 3ms/step - loss: 0.5414 - acc: 0.7437 - val_loss: 0.5493 - val_acc: 0.7388\n",
      "Epoch 17/20\n",
      "36264/36264 [==============================] - 102s 3ms/step - loss: 0.5413 - acc: 0.7441 - val_loss: 0.5504 - val_acc: 0.7392\n",
      "Epoch 18/20\n",
      "36264/36264 [==============================] - 102s 3ms/step - loss: 0.5409 - acc: 0.7443 - val_loss: 0.5490 - val_acc: 0.7398\n",
      "Epoch 19/20\n",
      "36264/36264 [==============================] - 102s 3ms/step - loss: 0.5408 - acc: 0.7445 - val_loss: 0.5495 - val_acc: 0.7392\n",
      "Epoch 20/20\n",
      "36264/36264 [==============================] - 102s 3ms/step - loss: 0.5407 - acc: 0.7440 - val_loss: 0.5491 - val_acc: 0.7402\n"
     ]
    }
   ],
   "source": [
    "model.compile(optimizer='rmsprop',\n",
    "              loss='binary_crossentropy',\n",
    "              metrics=['acc'])\n",
    "history = model.fit(X_train, y_train,\n",
    "                    epochs=20,\n",
    "                    batch_size=32,\n",
    "                    validation_data=(X_valid, y_valid))\n",
    "model.save(\"mymodel_embedding_trainable.h5\")"
   ]
  },
  {
   "cell_type": "code",
   "execution_count": 89,
   "metadata": {},
   "outputs": [
    {
     "data": {
      "image/png": "[encoded data removed]",
      "text/plain": [
       "<Figure size 432x288 with 1 Axes>"
      ]
     },
     "metadata": {
      "needs_background": "light"
     },
     "output_type": "display_data"
    },
    {
     "data": {
      "image/png": "[encoded data removed]",
      "text/plain": [
       "<Figure size 432x288 with 1 Axes>"
      ]
     },
     "metadata": {
      "needs_background": "light"
     },
     "output_type": "display_data"
    }
   ],
   "source": [
    "import matplotlib.pyplot as plt\n",
    "\n",
    "acc = history.history['acc']\n",
    "val_acc = history.history['val_acc']\n",
    "loss = history.history['loss']\n",
    "val_loss = history.history['val_loss']\n",
    "\n",
    "epochs = range(1, len(acc) + 1)\n",
    "\n",
    "plt.plot(epochs, acc, 'bo', label='Training acc')\n",
    "plt.plot(epochs, val_acc, 'b', label='Validation acc')\n",
    "plt.title('Training and validation accuracy')\n",
    "plt.legend()\n",
    "\n",
    "plt.figure()\n",
    "\n",
    "plt.plot(epochs, loss, 'bo', label='Training loss')\n",
    "plt.plot(epochs, val_loss, 'b', label='Validation loss')\n",
    "plt.title('Training and validation loss')\n",
    "plt.legend()\n",
    "\n",
    "plt.show()"
   ]
  },
  {
   "cell_type": "code",
   "execution_count": null,
   "metadata": {},
   "outputs": [],
   "source": []
  }
 ],
 "metadata": {
  "kernelspec": {
   "display_name": "Python 3",
   "language": "python",
   "name": "python3"
  },
  "language_info": {
   "codemirror_mode": {
    "name": "ipython",
    "version": 3
   },
   "file_extension": ".py",
   "mimetype": "text/x-python",
   "name": "python",
   "nbconvert_exporter": "python",
   "pygments_lexer": "ipython3",
   "version": "3.7.3"
  }
 },
 "nbformat": 4,
 "nbformat_minor": 4
}
